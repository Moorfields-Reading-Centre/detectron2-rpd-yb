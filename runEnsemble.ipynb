{
 "cells": [
  {
   "cell_type": "code",
   "execution_count": 1,
   "source": [
    "import shutil, os\n",
    "os.environ[\"CUDA_DEVICE_ORDER\"]=\"PCI_BUS_ID\"\n",
    "os.environ[\"CUDA_VISIBLE_DEVICES\"] = \"6\"\n",
    "import matplotlib.pyplot as plt\n",
    "import numpy as np\n",
    "import detectron2\n",
    "from detectron2.data import DatasetCatalog,MetadataCatalog\n",
    "from plain_train_net import grab_dataset\n",
    "import detectron2.utils.comm as comm\n",
    "from detectron2.engine import launch\n",
    "\n",
    "\n",
    "\n",
    "reprocess_results=False\n",
    "# dataset_name = \"reserves_fold1\"\n",
    "dataset_name = \"test\"\n",
    "dpi=120"
   ],
   "outputs": [],
   "metadata": {
    "tags": []
   }
  },
  {
   "cell_type": "code",
   "execution_count": 2,
   "source": [
    "#predict\n",
    "from detectron2.config import get_cfg\n",
    "cfg = get_cfg()\n",
    "cfg.merge_from_file('configs/working.yaml')\n",
    "#really low iou for nms in order to separate out lesions\n",
    "# cfg.merge_from_list([\"MODEL.WEIGHTS\", \"output_valid_fold1/model_final.pth\",\n",
    "#                      \"OUTPUT_DIR\", \"output_valid_\"+ dataset_name + \"/results\"])\n",
    "#print(cfg.dump())  # print formatted configs\n",
    "print(cfg.MODEL.ROI_HEADS.dump())\n",
    "print(cfg.MODEL.WEIGHTS)\n",
    "print(cfg.OUTPUT_DIR)\n"
   ],
   "outputs": [
    {
     "output_type": "stream",
     "name": "stdout",
     "text": [
      "BATCH_SIZE_PER_IMAGE: 512\n",
      "IN_FEATURES:\n",
      "- p2\n",
      "- p3\n",
      "- p4\n",
      "- p5\n",
      "IOU_LABELS:\n",
      "- 0\n",
      "- 1\n",
      "IOU_THRESHOLDS:\n",
      "- 0.5\n",
      "NAME: StandardROIHeads\n",
      "NMS_THRESH_TEST: 0.01\n",
      "NUM_CLASSES: 1\n",
      "POSITIVE_FRACTION: 0.25\n",
      "PROPOSAL_APPEND_GT: true\n",
      "SCORE_THRESH_TEST: 0.001\n",
      "\n",
      "detectron2://ImageNetPretrained/FAIR/X-101-32x8d.pkl\n",
      "./output\n"
     ]
    }
   ],
   "metadata": {
    "tags": []
   }
  },
  {
   "cell_type": "code",
   "execution_count": 3,
   "source": [
    "for name in [dataset_name]:\n",
    "    try:\n",
    "        DatasetCatalog.register(name, grab_dataset(name))\n",
    "    except:\n",
    "        print('Already registered.')\n",
    "        #do nothing\n",
    "    MetadataCatalog.get(name).thing_classes = [\"rpd\"]"
   ],
   "outputs": [],
   "metadata": {}
  },
  {
   "cell_type": "markdown",
   "source": [
    "# Prediction\n"
   ],
   "metadata": {}
  },
  {
   "cell_type": "code",
   "execution_count": 4,
   "source": [
    "\n",
    "#%%script false --no-raise-error\n",
    "#os.environ[\"NCCL_DEBUG\"] = \"INFO\"\n",
    "#from torch.nn.parallel import DistributedDataParallel\n",
    "from detectron2.modeling import build_model\n",
    "from detectron2.data import build_detection_test_loader\n",
    "from detectron2.checkpoint import DetectionCheckpointer\n",
    "#from plain_train_net import EvaluateClass\n",
    "from detectron2.evaluation import inference_on_dataset, COCOEvaluator\n",
    "\n",
    "def predict_func(cfg,dataset_name):\n",
    "\n",
    "    model = build_model(cfg)  # returns a torch.nn.Module\n",
    "    # distributed = comm.get_world_size() > 1\n",
    "    # if distributed:\n",
    "    #     model = DistributedDataParallel(\n",
    "    #         model, device_ids=[comm.get_local_rank()], broadcast_buffers=False\n",
    "    #     )\n",
    "    myloader = build_detection_test_loader(cfg,dataset_name)    \n",
    "    myeval = COCOEvaluator(dataset_name,tasks={'bbox','segm'},output_dir =\"output_\"+ dataset_name) #produces _coco_format.json when initialized\n",
    "\n",
    "\n",
    "    for mdl in (\"fold1\", \"fold2\", \"fold3\", \"fold4\",\"fold5\"):\n",
    "        #build model\n",
    "        model_weights_path = \"output_valid_\"+ mdl +\"/model_final.pth\"\n",
    "        DetectionCheckpointer(model).load(model_weights_path);  # load a file, usually from cfg.MODEL.WEIGHTS\n",
    "        model.eval(); #set model in evaluation mode\n",
    "        myeval.reset()\n",
    "        output_dir = \"output_\"+ dataset_name + \"/\"+mdl\n",
    "        myeval._output_dir = output_dir\n",
    "        results_i = inference_on_dataset(model, myloader, myeval) #produces coco_instance_results.json when myeval.evaluate is called\n",
    "    \n",
    "    return\n",
    "\n",
    "predict_func(cfg,dataset_name)\n",
    "# launch(\n",
    "#     predict_func,\n",
    "#     6, # of gpus\n",
    "#     num_machines=1,\n",
    "#     machine_rank=0,\n",
    "#     dist_url=\"auto\",\n",
    "#     args=(cfg,dataset_name,), #args to predict_func\n",
    "# )"
   ],
   "outputs": [
    {
     "output_type": "stream",
     "name": "stdout",
     "text": [
      "Loading and preparing results...\n",
      "DONE (t=0.01s)\n",
      "creating index...\n",
      "index created!\n",
      " Average Precision  (AP) @[ IoU=0.50:0.95 | area=   all | maxDets=100 ] = 0.257\n",
      " Average Precision  (AP) @[ IoU=0.50      | area=   all | maxDets=100 ] = 0.615\n",
      " Average Precision  (AP) @[ IoU=0.75      | area=   all | maxDets=100 ] = 0.152\n",
      " Average Precision  (AP) @[ IoU=0.50:0.95 | area= small | maxDets=100 ] = 0.257\n",
      " Average Precision  (AP) @[ IoU=0.50:0.95 | area=medium | maxDets=100 ] = 0.000\n",
      " Average Precision  (AP) @[ IoU=0.50:0.95 | area= large | maxDets=100 ] = -1.000\n",
      " Average Recall     (AR) @[ IoU=0.50:0.95 | area=   all | maxDets=  1 ] = 0.119\n",
      " Average Recall     (AR) @[ IoU=0.50:0.95 | area=   all | maxDets= 10 ] = 0.414\n",
      " Average Recall     (AR) @[ IoU=0.50:0.95 | area=   all | maxDets=100 ] = 0.420\n",
      " Average Recall     (AR) @[ IoU=0.50:0.95 | area= small | maxDets=100 ] = 0.420\n",
      " Average Recall     (AR) @[ IoU=0.50:0.95 | area=medium | maxDets=100 ] = 0.000\n",
      " Average Recall     (AR) @[ IoU=0.50:0.95 | area= large | maxDets=100 ] = -1.000\n",
      "Loading and preparing results...\n",
      "DONE (t=0.05s)\n",
      "creating index...\n",
      "index created!\n",
      " Average Precision  (AP) @[ IoU=0.50:0.95 | area=   all | maxDets=100 ] = 0.247\n",
      " Average Precision  (AP) @[ IoU=0.50      | area=   all | maxDets=100 ] = 0.613\n",
      " Average Precision  (AP) @[ IoU=0.75      | area=   all | maxDets=100 ] = 0.123\n",
      " Average Precision  (AP) @[ IoU=0.50:0.95 | area= small | maxDets=100 ] = 0.247\n",
      " Average Precision  (AP) @[ IoU=0.50:0.95 | area=medium | maxDets=100 ] = 0.000\n",
      " Average Precision  (AP) @[ IoU=0.50:0.95 | area= large | maxDets=100 ] = -1.000\n",
      " Average Recall     (AR) @[ IoU=0.50:0.95 | area=   all | maxDets=  1 ] = 0.114\n",
      " Average Recall     (AR) @[ IoU=0.50:0.95 | area=   all | maxDets= 10 ] = 0.385\n",
      " Average Recall     (AR) @[ IoU=0.50:0.95 | area=   all | maxDets=100 ] = 0.390\n",
      " Average Recall     (AR) @[ IoU=0.50:0.95 | area= small | maxDets=100 ] = 0.391\n",
      " Average Recall     (AR) @[ IoU=0.50:0.95 | area=medium | maxDets=100 ] = 0.000\n",
      " Average Recall     (AR) @[ IoU=0.50:0.95 | area= large | maxDets=100 ] = -1.000\n",
      "Loading and preparing results...\n",
      "DONE (t=0.01s)\n",
      "creating index...\n",
      "index created!\n",
      " Average Precision  (AP) @[ IoU=0.50:0.95 | area=   all | maxDets=100 ] = 0.252\n",
      " Average Precision  (AP) @[ IoU=0.50      | area=   all | maxDets=100 ] = 0.611\n",
      " Average Precision  (AP) @[ IoU=0.75      | area=   all | maxDets=100 ] = 0.138\n",
      " Average Precision  (AP) @[ IoU=0.50:0.95 | area= small | maxDets=100 ] = 0.253\n",
      " Average Precision  (AP) @[ IoU=0.50:0.95 | area=medium | maxDets=100 ] = 0.000\n",
      " Average Precision  (AP) @[ IoU=0.50:0.95 | area= large | maxDets=100 ] = -1.000\n",
      " Average Recall     (AR) @[ IoU=0.50:0.95 | area=   all | maxDets=  1 ] = 0.111\n",
      " Average Recall     (AR) @[ IoU=0.50:0.95 | area=   all | maxDets= 10 ] = 0.413\n",
      " Average Recall     (AR) @[ IoU=0.50:0.95 | area=   all | maxDets=100 ] = 0.420\n",
      " Average Recall     (AR) @[ IoU=0.50:0.95 | area= small | maxDets=100 ] = 0.420\n",
      " Average Recall     (AR) @[ IoU=0.50:0.95 | area=medium | maxDets=100 ] = 0.000\n",
      " Average Recall     (AR) @[ IoU=0.50:0.95 | area= large | maxDets=100 ] = -1.000\n",
      "Loading and preparing results...\n",
      "DONE (t=0.05s)\n",
      "creating index...\n",
      "index created!\n",
      " Average Precision  (AP) @[ IoU=0.50:0.95 | area=   all | maxDets=100 ] = 0.242\n",
      " Average Precision  (AP) @[ IoU=0.50      | area=   all | maxDets=100 ] = 0.608\n",
      " Average Precision  (AP) @[ IoU=0.75      | area=   all | maxDets=100 ] = 0.117\n",
      " Average Precision  (AP) @[ IoU=0.50:0.95 | area= small | maxDets=100 ] = 0.242\n",
      " Average Precision  (AP) @[ IoU=0.50:0.95 | area=medium | maxDets=100 ] = 0.000\n",
      " Average Precision  (AP) @[ IoU=0.50:0.95 | area= large | maxDets=100 ] = -1.000\n",
      " Average Recall     (AR) @[ IoU=0.50:0.95 | area=   all | maxDets=  1 ] = 0.107\n",
      " Average Recall     (AR) @[ IoU=0.50:0.95 | area=   all | maxDets= 10 ] = 0.389\n",
      " Average Recall     (AR) @[ IoU=0.50:0.95 | area=   all | maxDets=100 ] = 0.396\n",
      " Average Recall     (AR) @[ IoU=0.50:0.95 | area= small | maxDets=100 ] = 0.397\n",
      " Average Recall     (AR) @[ IoU=0.50:0.95 | area=medium | maxDets=100 ] = 0.000\n",
      " Average Recall     (AR) @[ IoU=0.50:0.95 | area= large | maxDets=100 ] = -1.000\n",
      "Loading and preparing results...\n",
      "DONE (t=0.01s)\n",
      "creating index...\n",
      "index created!\n",
      " Average Precision  (AP) @[ IoU=0.50:0.95 | area=   all | maxDets=100 ] = 0.257\n",
      " Average Precision  (AP) @[ IoU=0.50      | area=   all | maxDets=100 ] = 0.618\n",
      " Average Precision  (AP) @[ IoU=0.75      | area=   all | maxDets=100 ] = 0.159\n",
      " Average Precision  (AP) @[ IoU=0.50:0.95 | area= small | maxDets=100 ] = 0.257\n",
      " Average Precision  (AP) @[ IoU=0.50:0.95 | area=medium | maxDets=100 ] = 0.000\n",
      " Average Precision  (AP) @[ IoU=0.50:0.95 | area= large | maxDets=100 ] = -1.000\n",
      " Average Recall     (AR) @[ IoU=0.50:0.95 | area=   all | maxDets=  1 ] = 0.111\n",
      " Average Recall     (AR) @[ IoU=0.50:0.95 | area=   all | maxDets= 10 ] = 0.418\n",
      " Average Recall     (AR) @[ IoU=0.50:0.95 | area=   all | maxDets=100 ] = 0.427\n",
      " Average Recall     (AR) @[ IoU=0.50:0.95 | area= small | maxDets=100 ] = 0.427\n",
      " Average Recall     (AR) @[ IoU=0.50:0.95 | area=medium | maxDets=100 ] = 0.000\n",
      " Average Recall     (AR) @[ IoU=0.50:0.95 | area= large | maxDets=100 ] = -1.000\n",
      "Loading and preparing results...\n",
      "DONE (t=0.06s)\n",
      "creating index...\n",
      "index created!\n",
      " Average Precision  (AP) @[ IoU=0.50:0.95 | area=   all | maxDets=100 ] = 0.242\n",
      " Average Precision  (AP) @[ IoU=0.50      | area=   all | maxDets=100 ] = 0.610\n",
      " Average Precision  (AP) @[ IoU=0.75      | area=   all | maxDets=100 ] = 0.124\n",
      " Average Precision  (AP) @[ IoU=0.50:0.95 | area= small | maxDets=100 ] = 0.242\n",
      " Average Precision  (AP) @[ IoU=0.50:0.95 | area=medium | maxDets=100 ] = 0.000\n",
      " Average Precision  (AP) @[ IoU=0.50:0.95 | area= large | maxDets=100 ] = -1.000\n",
      " Average Recall     (AR) @[ IoU=0.50:0.95 | area=   all | maxDets=  1 ] = 0.107\n",
      " Average Recall     (AR) @[ IoU=0.50:0.95 | area=   all | maxDets= 10 ] = 0.391\n",
      " Average Recall     (AR) @[ IoU=0.50:0.95 | area=   all | maxDets=100 ] = 0.398\n",
      " Average Recall     (AR) @[ IoU=0.50:0.95 | area= small | maxDets=100 ] = 0.398\n",
      " Average Recall     (AR) @[ IoU=0.50:0.95 | area=medium | maxDets=100 ] = 0.000\n",
      " Average Recall     (AR) @[ IoU=0.50:0.95 | area= large | maxDets=100 ] = -1.000\n",
      "Loading and preparing results...\n",
      "DONE (t=0.01s)\n",
      "creating index...\n",
      "index created!\n",
      " Average Precision  (AP) @[ IoU=0.50:0.95 | area=   all | maxDets=100 ] = 0.264\n",
      " Average Precision  (AP) @[ IoU=0.50      | area=   all | maxDets=100 ] = 0.641\n",
      " Average Precision  (AP) @[ IoU=0.75      | area=   all | maxDets=100 ] = 0.155\n",
      " Average Precision  (AP) @[ IoU=0.50:0.95 | area= small | maxDets=100 ] = 0.264\n",
      " Average Precision  (AP) @[ IoU=0.50:0.95 | area=medium | maxDets=100 ] = 0.000\n",
      " Average Precision  (AP) @[ IoU=0.50:0.95 | area= large | maxDets=100 ] = -1.000\n",
      " Average Recall     (AR) @[ IoU=0.50:0.95 | area=   all | maxDets=  1 ] = 0.115\n",
      " Average Recall     (AR) @[ IoU=0.50:0.95 | area=   all | maxDets= 10 ] = 0.414\n",
      " Average Recall     (AR) @[ IoU=0.50:0.95 | area=   all | maxDets=100 ] = 0.423\n",
      " Average Recall     (AR) @[ IoU=0.50:0.95 | area= small | maxDets=100 ] = 0.423\n",
      " Average Recall     (AR) @[ IoU=0.50:0.95 | area=medium | maxDets=100 ] = 0.000\n",
      " Average Recall     (AR) @[ IoU=0.50:0.95 | area= large | maxDets=100 ] = -1.000\n",
      "Loading and preparing results...\n",
      "DONE (t=0.04s)\n",
      "creating index...\n",
      "index created!\n",
      " Average Precision  (AP) @[ IoU=0.50:0.95 | area=   all | maxDets=100 ] = 0.252\n",
      " Average Precision  (AP) @[ IoU=0.50      | area=   all | maxDets=100 ] = 0.637\n",
      " Average Precision  (AP) @[ IoU=0.75      | area=   all | maxDets=100 ] = 0.135\n",
      " Average Precision  (AP) @[ IoU=0.50:0.95 | area= small | maxDets=100 ] = 0.253\n",
      " Average Precision  (AP) @[ IoU=0.50:0.95 | area=medium | maxDets=100 ] = 0.000\n",
      " Average Precision  (AP) @[ IoU=0.50:0.95 | area= large | maxDets=100 ] = -1.000\n",
      " Average Recall     (AR) @[ IoU=0.50:0.95 | area=   all | maxDets=  1 ] = 0.112\n",
      " Average Recall     (AR) @[ IoU=0.50:0.95 | area=   all | maxDets= 10 ] = 0.387\n",
      " Average Recall     (AR) @[ IoU=0.50:0.95 | area=   all | maxDets=100 ] = 0.393\n",
      " Average Recall     (AR) @[ IoU=0.50:0.95 | area= small | maxDets=100 ] = 0.393\n",
      " Average Recall     (AR) @[ IoU=0.50:0.95 | area=medium | maxDets=100 ] = 0.000\n",
      " Average Recall     (AR) @[ IoU=0.50:0.95 | area= large | maxDets=100 ] = -1.000\n",
      "Loading and preparing results...\n",
      "DONE (t=0.01s)\n",
      "creating index...\n",
      "index created!\n",
      " Average Precision  (AP) @[ IoU=0.50:0.95 | area=   all | maxDets=100 ] = 0.247\n",
      " Average Precision  (AP) @[ IoU=0.50      | area=   all | maxDets=100 ] = 0.603\n",
      " Average Precision  (AP) @[ IoU=0.75      | area=   all | maxDets=100 ] = 0.138\n",
      " Average Precision  (AP) @[ IoU=0.50:0.95 | area= small | maxDets=100 ] = 0.247\n",
      " Average Precision  (AP) @[ IoU=0.50:0.95 | area=medium | maxDets=100 ] = 0.000\n",
      " Average Precision  (AP) @[ IoU=0.50:0.95 | area= large | maxDets=100 ] = -1.000\n",
      " Average Recall     (AR) @[ IoU=0.50:0.95 | area=   all | maxDets=  1 ] = 0.110\n",
      " Average Recall     (AR) @[ IoU=0.50:0.95 | area=   all | maxDets= 10 ] = 0.408\n",
      " Average Recall     (AR) @[ IoU=0.50:0.95 | area=   all | maxDets=100 ] = 0.416\n",
      " Average Recall     (AR) @[ IoU=0.50:0.95 | area= small | maxDets=100 ] = 0.417\n",
      " Average Recall     (AR) @[ IoU=0.50:0.95 | area=medium | maxDets=100 ] = 0.000\n",
      " Average Recall     (AR) @[ IoU=0.50:0.95 | area= large | maxDets=100 ] = -1.000\n",
      "Loading and preparing results...\n",
      "DONE (t=0.05s)\n",
      "creating index...\n",
      "index created!\n",
      " Average Precision  (AP) @[ IoU=0.50:0.95 | area=   all | maxDets=100 ] = 0.239\n",
      " Average Precision  (AP) @[ IoU=0.50      | area=   all | maxDets=100 ] = 0.607\n",
      " Average Precision  (AP) @[ IoU=0.75      | area=   all | maxDets=100 ] = 0.112\n",
      " Average Precision  (AP) @[ IoU=0.50:0.95 | area= small | maxDets=100 ] = 0.239\n",
      " Average Precision  (AP) @[ IoU=0.50:0.95 | area=medium | maxDets=100 ] = 0.000\n",
      " Average Precision  (AP) @[ IoU=0.50:0.95 | area= large | maxDets=100 ] = -1.000\n",
      " Average Recall     (AR) @[ IoU=0.50:0.95 | area=   all | maxDets=  1 ] = 0.108\n",
      " Average Recall     (AR) @[ IoU=0.50:0.95 | area=   all | maxDets= 10 ] = 0.384\n",
      " Average Recall     (AR) @[ IoU=0.50:0.95 | area=   all | maxDets=100 ] = 0.392\n",
      " Average Recall     (AR) @[ IoU=0.50:0.95 | area= small | maxDets=100 ] = 0.392\n",
      " Average Recall     (AR) @[ IoU=0.50:0.95 | area=medium | maxDets=100 ] = 0.000\n",
      " Average Recall     (AR) @[ IoU=0.50:0.95 | area= large | maxDets=100 ] = -1.000\n"
     ]
    }
   ],
   "metadata": {}
  },
  {
   "cell_type": "markdown",
   "source": [
    "# Ensembling"
   ],
   "metadata": {}
  },
  {
   "cell_type": "code",
   "execution_count": 5,
   "source": [
    "#%%script false --no-raise-error\n",
    "from Ensembler import Ensembler\n",
    "ens = Ensembler('output_'+dataset_name,dataset_name,[\"fold1\", \"fold2\", \"fold3\", \"fold4\",\"fold5\"],.2)\n",
    "ens.mean_score_nms()\n",
    "ens.save_coco_instances()"
   ],
   "outputs": [
    {
     "output_type": "stream",
     "name": "stdout",
     "text": [
      "loading annotations into memory...\n",
      "Done (t=0.02s)\n",
      "creating index...\n",
      "index created!\n",
      "Loading and preparing results...\n",
      "DONE (t=0.05s)\n",
      "creating index...\n",
      "index created!\n",
      "Successfully loaded output_test/fold1/coco_instances_results.json into memory. 5353 instance detected.\n",
      "\n",
      "Loading and preparing results...\n",
      "DONE (t=0.03s)\n",
      "creating index...\n",
      "index created!\n",
      "Successfully loaded output_test/fold2/coco_instances_results.json into memory. 4937 instance detected.\n",
      "\n",
      "Loading and preparing results...\n",
      "DONE (t=0.03s)\n",
      "creating index...\n",
      "index created!\n",
      "Successfully loaded output_test/fold3/coco_instances_results.json into memory. 5325 instance detected.\n",
      "\n",
      "Loading and preparing results...\n"
     ]
    },
    {
     "output_type": "stream",
     "name": "stderr",
     "text": [
      "  0%|          | 8/1960 [00:00<00:24, 78.48it/s]"
     ]
    },
    {
     "output_type": "stream",
     "name": "stdout",
     "text": [
      "DONE (t=0.10s)\n",
      "creating index...\n",
      "index created!\n",
      "Successfully loaded output_test/fold4/coco_instances_results.json into memory. 4178 instance detected.\n",
      "\n",
      "Loading and preparing results...\n",
      "DONE (t=0.03s)\n",
      "creating index...\n",
      "index created!\n",
      "Successfully loaded output_test/fold5/coco_instances_results.json into memory. 5150 instance detected.\n",
      "\n",
      "Working with 5 models, 1 categories, and 1960 images.\n",
      "Computing mean score non-max suppression ensembling for 1960 images.\n"
     ]
    },
    {
     "output_type": "stream",
     "name": "stderr",
     "text": [
      "100%|██████████| 1960/1960 [00:26<00:00, 74.09it/s]\n"
     ]
    },
    {
     "output_type": "stream",
     "name": "stdout",
     "text": [
      "6682 resulting instances from NMS\n"
     ]
    }
   ],
   "metadata": {
    "tags": []
   }
  },
  {
   "cell_type": "markdown",
   "source": [
    "# Evaluation"
   ],
   "metadata": {}
  },
  {
   "cell_type": "markdown",
   "source": [
    "## Ensemble"
   ],
   "metadata": {}
  },
  {
   "cell_type": "code",
   "execution_count": 6,
   "source": [
    "from plain_train_net import EvaluateClass,CreatePlotsRPD\n",
    "import json\n",
    "#evaluate ensemble\n",
    "myeval = EvaluateClass(\n",
    "    dataset_name, \"output_\"+ dataset_name,iou_thresh = .2,prob_thresh=0.5,evalsuper=False)\n",
    "myeval.evaluate()\n",
    "%precision 3\n",
    "print(myeval.summarize_scalars())\n",
    "with open(os.path.join(\"output_\"+ dataset_name,'scalar_dict.json'),\"w\") as outfile:\n",
    "    json.dump(obj=myeval.summarize_scalars(),fp=outfile)\n",
    "num_images = myeval.num_images\n",
    "myeval.plot_PRcurve()\n",
    "plt.tight_layout()\n",
    "myeval.plot_recall_vs_prob()\n",
    "plt.tight_layout()\n",
    "\n",
    "RPDplt = CreatePlotsRPD.initfromcoco(myeval.mycoco,myeval.prob_thresh)\n",
    "RPDplt.gt_dt_FP_FN_count();\n"
   ],
   "outputs": [
    {
     "output_type": "stream",
     "name": "stdout",
     "text": [
      "loading annotations into memory...\n",
      "Done (t=0.01s)\n",
      "creating index...\n",
      "index created!\n",
      "Loading and preparing results...\n",
      "DONE (t=0.06s)\n",
      "creating index...\n",
      "index created!\n",
      "Calculated metrics for 1960 images\n",
      "Running per image evaluation...\n",
      "Evaluate annotation type *segm*\n",
      "DONE (t=0.22s).\n",
      "Accumulating evaluation results...\n",
      "DONE (t=0.01s).\n",
      "{'dataset': 'test', 'precision': 0.6388400702987698, 'recall': 0.6900000000000001, 'fpr': 0.04431137724550898, 'iou': 0.2, 'probability': 0.5}\n"
     ]
    },
    {
     "output_type": "display_data",
     "data": {
      "image/png": "[encoded data removed]",
      "text/plain": [
       "<Figure size 432x288 with 1 Axes>"
      ]
     },
     "metadata": {
      "needs_background": "light"
     }
    },
    {
     "output_type": "display_data",
     "data": {
      "image/png": "[encoded data removed]",
      "text/plain": [
       "<Figure size 432x288 with 1 Axes>"
      ]
     },
     "metadata": {
      "needs_background": "light"
     }
    },
    {
     "output_type": "display_data",
     "data": {
      "image/png": "[encoded data removed]",
      "text/plain": [
       "<Figure size 720x360 with 2 Axes>"
      ]
     },
     "metadata": {
      "needs_background": "light"
     }
    }
   ],
   "metadata": {
    "tags": []
   }
  },
  {
   "cell_type": "markdown",
   "source": [
    "## Individual Models"
   ],
   "metadata": {}
  },
  {
   "cell_type": "code",
   "execution_count": 9,
   "source": [
    "#evaluate individual models\n",
    "import json\n",
    "myeval.evalsuper=False\n",
    "for mdl in (\"fold1\", \"fold2\", \"fold3\", \"fold4\",\"fold5\"):\n",
    "    myeval.reset()\n",
    "    output_dir = \"output_\"+ dataset_name + \"/\"+mdl\n",
    "    myeval._output_dir = output_dir\n",
    "    myeval.evaluate()\n",
    "    print(myeval.summarize_scalars())\n",
    "    with open(os.path.join(output_dir,'scalar_dict.json'),\"w\") as outfile:\n",
    "        json.dump(obj=myeval.summarize_scalars(),fp=outfile)\n"
   ],
   "outputs": [
    {
     "output_type": "stream",
     "name": "stdout",
     "text": [
      "loading annotations into memory...\n",
      "Done (t=0.01s)\n",
      "creating index...\n",
      "index created!\n",
      "Loading and preparing results...\n",
      "DONE (t=0.02s)\n",
      "creating index...\n",
      "index created!\n",
      "Calculated metrics for 1960 images\n",
      "Running per image evaluation...\n",
      "Evaluate annotation type *segm*\n",
      "DONE (t=0.18s).\n",
      "Accumulating evaluation results...\n",
      "DONE (t=0.01s).\n",
      "{'dataset': 'test', 'precision': 0.6124595469255664, 'recall': 0.72, 'fpr': 0.046706586826347304, 'iou': 0.2, 'probability': 0.5}\n",
      "loading annotations into memory...\n",
      "Done (t=0.01s)\n",
      "creating index...\n",
      "index created!\n",
      "Loading and preparing results...\n",
      "DONE (t=0.19s)\n",
      "creating index...\n",
      "index created!\n",
      "Calculated metrics for 1960 images\n",
      "Running per image evaluation...\n",
      "Evaluate annotation type *segm*\n",
      "DONE (t=0.18s).\n",
      "Accumulating evaluation results...\n",
      "DONE (t=0.01s).\n",
      "{'dataset': 'test', 'precision': 0.6139917695473252, 'recall': 0.71, 'fpr': 0.04610778443113772, 'iou': 0.2, 'probability': 0.5}\n",
      "loading annotations into memory...\n",
      "Done (t=0.01s)\n",
      "creating index...\n",
      "index created!\n",
      "Loading and preparing results...\n",
      "DONE (t=0.02s)\n",
      "creating index...\n",
      "index created!\n",
      "Calculated metrics for 1960 images\n",
      "Running per image evaluation...\n",
      "Evaluate annotation type *segm*\n",
      "DONE (t=0.19s).\n",
      "Accumulating evaluation results...\n",
      "DONE (t=0.02s).\n",
      "{'dataset': 'test', 'precision': 0.5850903614457831, 'recall': 0.74, 'fpr': 0.04910179640718563, 'iou': 0.2, 'probability': 0.5}\n",
      "loading annotations into memory...\n",
      "Done (t=0.02s)\n",
      "creating index...\n",
      "index created!\n",
      "Loading and preparing results...\n",
      "DONE (t=0.03s)\n",
      "creating index...\n",
      "index created!\n",
      "Calculated metrics for 1960 images\n",
      "Running per image evaluation...\n",
      "Evaluate annotation type *segm*\n",
      "DONE (t=0.36s).\n",
      "Accumulating evaluation results...\n",
      "DONE (t=0.01s).\n",
      "{'dataset': 'test', 'precision': 0.6927835051546392, 'recall': 0.64, 'fpr': 0.038922155688622756, 'iou': 0.2, 'probability': 0.5}\n",
      "loading annotations into memory...\n",
      "Done (t=0.01s)\n",
      "creating index...\n",
      "index created!\n",
      "Loading and preparing results...\n",
      "DONE (t=0.03s)\n",
      "creating index...\n",
      "index created!\n",
      "Calculated metrics for 1960 images\n",
      "Running per image evaluation...\n",
      "Evaluate annotation type *segm*\n",
      "DONE (t=0.19s).\n",
      "Accumulating evaluation results...\n",
      "DONE (t=0.01s).\n",
      "{'dataset': 'test', 'precision': 0.635407537248028, 'recall': 0.6900000000000001, 'fpr': 0.04431137724550898, 'iou': 0.2, 'probability': 0.5}\n"
     ]
    }
   ],
   "metadata": {}
  },
  {
   "cell_type": "code",
   "execution_count": 10,
   "source": [
    "import json, os\n",
    "import pandas as pd\n",
    "from table_styles import styles\n",
    "mydicts=[]\n",
    "for mdl in ['fold1','fold2','fold3','fold4','fold5']:\n",
    "    output_dir = \"output_\"+ dataset_name + \"/\"+mdl\n",
    "    with open(os.path.join(output_dir,'scalar_dict.json')) as f:\n",
    "        mydicts.append(json.load(f))\n",
    "with open(os.path.join(\"output_\"+ dataset_name,'scalar_dict.json')) as f:\n",
    "    mydicts.append(json.load(f))\n",
    "dfr = pd.DataFrame(mydicts)\n",
    "dfr = dfr.assign(fp = np.int32(dfr.fpr*num_images))\n",
    "dfr = dfr.assign(f1 = 2*(dfr.precision*dfr.recall)/(dfr.precision + dfr.recall))\n",
    "dfr = dfr.assign(model = ['1','2','3','4','5','ensemble'])\n",
    "# dfr = dfr[['model','fpr','fp','probability','dataset']]\n",
    "dfr = dfr[['model','dataset','precision','recall','f1','fpr','fp','iou','probability']]\n",
    "pd.set_option('display.precision',3)\n",
    "dfr.style.set_table_styles(styles).set_table_attributes('style=\"font-size: 17px\"')"
   ],
   "outputs": [
    {
     "output_type": "execute_result",
     "data": {
      "text/html": [
       "<style  type=\"text/css\" >\n",
       "    #T_a23a6_   {\n",
       "          margin: 0;\n",
       "          font-family: \"Helvetica\", \"Arial\", sans-serif;\n",
       "          border-collapse: collapse;\n",
       "          border: none;\n",
       "          border: 2px solid #ccf;\n",
       "    }    #T_a23a6_ tbody tr:nth-child(even) {\n",
       "          background-color: #fff;\n",
       "    }    #T_a23a6_ tbody tr:nth-child(odd) {\n",
       "          background-color: #eee;\n",
       "    }    #T_a23a6_ td {\n",
       "          padding: .5em;\n",
       "          text-align: center;\n",
       "    }    #T_a23a6_ th {\n",
       "          font-size: 125%;\n",
       "          text-align: center;\n",
       "    }    #T_a23a6_ caption {\n",
       "          caption-side: bottom;\n",
       "    }    #T_a23a6_ tbody tr:hover {\n",
       "          background-color: #add8e6;\n",
       "    }</style><table id=\"T_a23a6_\" style=\"font-size: 17px\"><thead>    <tr>        <th class=\"blank level0\" ></th>        <th class=\"col_heading level0 col0\" >model</th>        <th class=\"col_heading level0 col1\" >dataset</th>        <th class=\"col_heading level0 col2\" >precision</th>        <th class=\"col_heading level0 col3\" >recall</th>        <th class=\"col_heading level0 col4\" >f1</th>        <th class=\"col_heading level0 col5\" >fpr</th>        <th class=\"col_heading level0 col6\" >fp</th>        <th class=\"col_heading level0 col7\" >iou</th>        <th class=\"col_heading level0 col8\" >probability</th>    </tr></thead><tbody>\n",
       "                <tr>\n",
       "                        <th id=\"T_a23a6_level0_row0\" class=\"row_heading level0 row0\" >0</th>\n",
       "                        <td id=\"T_a23a6_row0_col0\" class=\"data row0 col0\" >1</td>\n",
       "                        <td id=\"T_a23a6_row0_col1\" class=\"data row0 col1\" >test</td>\n",
       "                        <td id=\"T_a23a6_row0_col2\" class=\"data row0 col2\" >0.612</td>\n",
       "                        <td id=\"T_a23a6_row0_col3\" class=\"data row0 col3\" >0.720</td>\n",
       "                        <td id=\"T_a23a6_row0_col4\" class=\"data row0 col4\" >0.662</td>\n",
       "                        <td id=\"T_a23a6_row0_col5\" class=\"data row0 col5\" >0.047</td>\n",
       "                        <td id=\"T_a23a6_row0_col6\" class=\"data row0 col6\" >91</td>\n",
       "                        <td id=\"T_a23a6_row0_col7\" class=\"data row0 col7\" >0.200</td>\n",
       "                        <td id=\"T_a23a6_row0_col8\" class=\"data row0 col8\" >0.500</td>\n",
       "            </tr>\n",
       "            <tr>\n",
       "                        <th id=\"T_a23a6_level0_row1\" class=\"row_heading level0 row1\" >1</th>\n",
       "                        <td id=\"T_a23a6_row1_col0\" class=\"data row1 col0\" >2</td>\n",
       "                        <td id=\"T_a23a6_row1_col1\" class=\"data row1 col1\" >test</td>\n",
       "                        <td id=\"T_a23a6_row1_col2\" class=\"data row1 col2\" >0.614</td>\n",
       "                        <td id=\"T_a23a6_row1_col3\" class=\"data row1 col3\" >0.710</td>\n",
       "                        <td id=\"T_a23a6_row1_col4\" class=\"data row1 col4\" >0.659</td>\n",
       "                        <td id=\"T_a23a6_row1_col5\" class=\"data row1 col5\" >0.046</td>\n",
       "                        <td id=\"T_a23a6_row1_col6\" class=\"data row1 col6\" >90</td>\n",
       "                        <td id=\"T_a23a6_row1_col7\" class=\"data row1 col7\" >0.200</td>\n",
       "                        <td id=\"T_a23a6_row1_col8\" class=\"data row1 col8\" >0.500</td>\n",
       "            </tr>\n",
       "            <tr>\n",
       "                        <th id=\"T_a23a6_level0_row2\" class=\"row_heading level0 row2\" >2</th>\n",
       "                        <td id=\"T_a23a6_row2_col0\" class=\"data row2 col0\" >3</td>\n",
       "                        <td id=\"T_a23a6_row2_col1\" class=\"data row2 col1\" >test</td>\n",
       "                        <td id=\"T_a23a6_row2_col2\" class=\"data row2 col2\" >0.585</td>\n",
       "                        <td id=\"T_a23a6_row2_col3\" class=\"data row2 col3\" >0.740</td>\n",
       "                        <td id=\"T_a23a6_row2_col4\" class=\"data row2 col4\" >0.653</td>\n",
       "                        <td id=\"T_a23a6_row2_col5\" class=\"data row2 col5\" >0.049</td>\n",
       "                        <td id=\"T_a23a6_row2_col6\" class=\"data row2 col6\" >96</td>\n",
       "                        <td id=\"T_a23a6_row2_col7\" class=\"data row2 col7\" >0.200</td>\n",
       "                        <td id=\"T_a23a6_row2_col8\" class=\"data row2 col8\" >0.500</td>\n",
       "            </tr>\n",
       "            <tr>\n",
       "                        <th id=\"T_a23a6_level0_row3\" class=\"row_heading level0 row3\" >3</th>\n",
       "                        <td id=\"T_a23a6_row3_col0\" class=\"data row3 col0\" >4</td>\n",
       "                        <td id=\"T_a23a6_row3_col1\" class=\"data row3 col1\" >test</td>\n",
       "                        <td id=\"T_a23a6_row3_col2\" class=\"data row3 col2\" >0.693</td>\n",
       "                        <td id=\"T_a23a6_row3_col3\" class=\"data row3 col3\" >0.640</td>\n",
       "                        <td id=\"T_a23a6_row3_col4\" class=\"data row3 col4\" >0.665</td>\n",
       "                        <td id=\"T_a23a6_row3_col5\" class=\"data row3 col5\" >0.039</td>\n",
       "                        <td id=\"T_a23a6_row3_col6\" class=\"data row3 col6\" >76</td>\n",
       "                        <td id=\"T_a23a6_row3_col7\" class=\"data row3 col7\" >0.200</td>\n",
       "                        <td id=\"T_a23a6_row3_col8\" class=\"data row3 col8\" >0.500</td>\n",
       "            </tr>\n",
       "            <tr>\n",
       "                        <th id=\"T_a23a6_level0_row4\" class=\"row_heading level0 row4\" >4</th>\n",
       "                        <td id=\"T_a23a6_row4_col0\" class=\"data row4 col0\" >5</td>\n",
       "                        <td id=\"T_a23a6_row4_col1\" class=\"data row4 col1\" >test</td>\n",
       "                        <td id=\"T_a23a6_row4_col2\" class=\"data row4 col2\" >0.635</td>\n",
       "                        <td id=\"T_a23a6_row4_col3\" class=\"data row4 col3\" >0.690</td>\n",
       "                        <td id=\"T_a23a6_row4_col4\" class=\"data row4 col4\" >0.662</td>\n",
       "                        <td id=\"T_a23a6_row4_col5\" class=\"data row4 col5\" >0.044</td>\n",
       "                        <td id=\"T_a23a6_row4_col6\" class=\"data row4 col6\" >86</td>\n",
       "                        <td id=\"T_a23a6_row4_col7\" class=\"data row4 col7\" >0.200</td>\n",
       "                        <td id=\"T_a23a6_row4_col8\" class=\"data row4 col8\" >0.500</td>\n",
       "            </tr>\n",
       "            <tr>\n",
       "                        <th id=\"T_a23a6_level0_row5\" class=\"row_heading level0 row5\" >5</th>\n",
       "                        <td id=\"T_a23a6_row5_col0\" class=\"data row5 col0\" >ensemble</td>\n",
       "                        <td id=\"T_a23a6_row5_col1\" class=\"data row5 col1\" >test</td>\n",
       "                        <td id=\"T_a23a6_row5_col2\" class=\"data row5 col2\" >0.639</td>\n",
       "                        <td id=\"T_a23a6_row5_col3\" class=\"data row5 col3\" >0.690</td>\n",
       "                        <td id=\"T_a23a6_row5_col4\" class=\"data row5 col4\" >0.663</td>\n",
       "                        <td id=\"T_a23a6_row5_col5\" class=\"data row5 col5\" >0.044</td>\n",
       "                        <td id=\"T_a23a6_row5_col6\" class=\"data row5 col6\" >86</td>\n",
       "                        <td id=\"T_a23a6_row5_col7\" class=\"data row5 col7\" >0.200</td>\n",
       "                        <td id=\"T_a23a6_row5_col8\" class=\"data row5 col8\" >0.500</td>\n",
       "            </tr>\n",
       "    </tbody></table>"
      ],
      "text/plain": [
       "<pandas.io.formats.style.Styler at 0x7f1e5ae41b10>"
      ]
     },
     "metadata": {},
     "execution_count": 10
    }
   ],
   "metadata": {}
  },
  {
   "cell_type": "markdown",
   "source": [
    "# Visualize Output"
   ],
   "metadata": {}
  },
  {
   "cell_type": "code",
   "execution_count": 5,
   "source": [
    "\n",
    "from plain_train_net import OutputVis\n",
    "\n",
    "dataset_name = 'val'\n",
    "pred_file = \"output_\"+ dataset_name + \"/coco_instances_results.json\"\n",
    "out_file = os.path.join(\"output_\"+ dataset_name,'mean_score_nms_'+dataset_name+'.pdf')\n",
    "\n",
    "# mdl = 'fold1'\n",
    "# pred_file = os.path.join(\"output_\"+ dataset_name,mdl,\"coco_instances_results.json\")\n",
    "# out_file = os.path.join(\"output_\"+ dataset_name,'mean_score_nms_'+mdl+'.pdf')\n",
    "\n",
    "# vis = OutputVis(dataset_name,prob_thresh = 0.5,pred_mode='file',pred_file=pred_file,has_annotations=False)\n",
    "# ImgIds = RPDplt.dfimg.index[RPDplt.dfimg.dt_instances>0] #np.abs(df.gt_xpxs-df.dt_xpxs).sort_values(ascending=False).index[0:50].values\n",
    "# vis.output_to_pdf(ImgIds,out_file)\n",
    "\n",
    "#df = RPDplt.dfimg\n",
    "vis = OutputVis(dataset_name,prob_thresh = 0.5,pred_mode='file',pred_file=pred_file,has_annotations=True)\n",
    "ImgIds = np.abs(df.gt_xpxs-df.dt_xpxs).sort_values(ascending=False).index[0:10].values\n",
    "#vis.output_to_pdf(ImgIds,out_file)\n"
   ],
   "outputs": [],
   "metadata": {
    "tags": []
   }
  }
 ],
 "metadata": {
  "kernelspec": {
   "name": "python3",
   "display_name": "Python 3.7.10 64-bit ('detectron': conda)"
  },
  "language_info": {
   "codemirror_mode": {
    "name": "ipython",
    "version": 3
   },
   "file_extension": ".py",
   "mimetype": "text/x-python",
   "name": "python",
   "nbconvert_exporter": "python",
   "pygments_lexer": "ipython3",
   "version": "3.7.10"
  },
  "interpreter": {
   "hash": "537dd73a9eff53b324e18e8be1dcdd80e5b32d5ffb754732571ba6d824b3e9bf"
  }
 },
 "nbformat": 4,
 "nbformat_minor": 5
}