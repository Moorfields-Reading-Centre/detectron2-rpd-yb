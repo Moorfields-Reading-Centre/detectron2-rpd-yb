{
 "cells": [
  {
   "cell_type": "code",
   "execution_count": 1,
   "metadata": {
    "tags": []
   },
   "outputs": [],
   "source": [
    "import shutil, os\n",
    "os.environ[\"CUDA_DEVICE_ORDER\"]=\"PCI_BUS_ID\"\n",
    "os.environ[\"CUDA_VISIBLE_DEVICES\"] = \"0\"\n",
    "import matplotlib.pyplot as plt\n",
    "import numpy as np\n",
    "import detectron2\n",
    "from detectron2.data import DatasetCatalog,MetadataCatalog\n",
    "from plain_train_net import grab_dataset\n",
    "import detectron2.utils.comm as comm\n",
    "from detectron2.engine import launch\n",
    "\n",
    "\n",
    "\n",
    "reprocess_results=True\n",
    "# dataset_name = \"reserves_fold1\"\n",
    "dataset_name = \"ext_test\"\n",
    "dpi=120"
   ]
  },
  {
   "cell_type": "code",
   "execution_count": 2,
   "metadata": {
    "tags": []
   },
   "outputs": [
    {
     "name": "stdout",
     "output_type": "stream",
     "text": [
      "BATCH_SIZE_PER_IMAGE: 512\n",
      "IN_FEATURES:\n",
      "- p2\n",
      "- p3\n",
      "- p4\n",
      "- p5\n",
      "IOU_LABELS:\n",
      "- 0\n",
      "- 1\n",
      "IOU_THRESHOLDS:\n",
      "- 0.5\n",
      "NAME: StandardROIHeads\n",
      "NMS_THRESH_TEST: 0.01\n",
      "NUM_CLASSES: 1\n",
      "POSITIVE_FRACTION: 0.25\n",
      "PROPOSAL_APPEND_GT: true\n",
      "SCORE_THRESH_TEST: 0.001\n",
      "\n",
      "detectron2://ImageNetPretrained/FAIR/X-101-32x8d.pkl\n",
      "./output\n"
     ]
    }
   ],
   "source": [
    "#predict\n",
    "from detectron2.config import get_cfg\n",
    "cfg = get_cfg()\n",
    "cfg.merge_from_file('configs/working.yaml')\n",
    "#really low iou for nms in order to separate out lesions\n",
    "# cfg.merge_from_list([\"MODEL.WEIGHTS\", \"output_valid_fold1/model_final.pth\",\n",
    "#                      \"OUTPUT_DIR\", \"output_valid_\"+ dataset_name + \"/results\"])\n",
    "#print(cfg.dump())  # print formatted configs\n",
    "print(cfg.MODEL.ROI_HEADS.dump())\n",
    "print(cfg.MODEL.WEIGHTS)\n",
    "print(cfg.OUTPUT_DIR)\n"
   ]
  },
  {
   "cell_type": "code",
   "execution_count": 3,
   "metadata": {},
   "outputs": [],
   "source": [
    "for name in [dataset_name]:\n",
    "    try:\n",
    "        DatasetCatalog.register(name, grab_dataset(name))\n",
    "    except:\n",
    "        print('Already registered.')\n",
    "        #do nothing\n",
    "    MetadataCatalog.get(name).thing_classes = [\"rpd\"]"
   ]
  },
  {
   "cell_type": "markdown",
   "metadata": {},
   "source": [
    "# Prediction\n"
   ]
  },
  {
   "cell_type": "code",
   "execution_count": 4,
   "metadata": {},
   "outputs": [
    {
     "name": "stderr",
     "output_type": "stream",
     "text": [
      "Using previously cached COCO format annotations at 'output_ext_test/ext_test_coco_format.json'. You need to clear the cache file if your dataset has been modified.\n",
      "The checkpoint state_dict contains keys that are not used by the model:\n",
      "  \u001b[35mproposal_generator.anchor_generator.cell_anchors.{0, 1, 2, 3, 4}\u001b[0m\n",
      "The checkpoint state_dict contains keys that are not used by the model:\n",
      "  \u001b[35mproposal_generator.anchor_generator.cell_anchors.{0, 1, 2, 3, 4}\u001b[0m\n",
      "The checkpoint state_dict contains keys that are not used by the model:\n",
      "  \u001b[35mproposal_generator.anchor_generator.cell_anchors.{0, 1, 2, 3, 4}\u001b[0m\n",
      "The checkpoint state_dict contains keys that are not used by the model:\n",
      "  \u001b[35mproposal_generator.anchor_generator.cell_anchors.{0, 1, 2, 3, 4}\u001b[0m\n",
      "The checkpoint state_dict contains keys that are not used by the model:\n",
      "  \u001b[35mproposal_generator.anchor_generator.cell_anchors.{0, 1, 2, 3, 4}\u001b[0m\n"
     ]
    }
   ],
   "source": [
    "\n",
    "#%%script false --no-raise-error\n",
    "#os.environ[\"NCCL_DEBUG\"] = \"INFO\"\n",
    "#from torch.nn.parallel import DistributedDataParallel\n",
    "from detectron2.modeling import build_model\n",
    "from detectron2.data import build_detection_test_loader\n",
    "from detectron2.checkpoint import DetectionCheckpointer\n",
    "#from plain_train_net import EvaluateClass\n",
    "from detectron2.evaluation import inference_on_dataset, COCOEvaluator\n",
    "\n",
    "def predict_func(cfg,dataset_name):\n",
    "\n",
    "    model = build_model(cfg)  # returns a torch.nn.Module\n",
    "    # distributed = comm.get_world_size() > 1\n",
    "    # if distributed:\n",
    "    #     model = DistributedDataParallel(\n",
    "    #         model, device_ids=[comm.get_local_rank()], broadcast_buffers=False\n",
    "    #     )\n",
    "    myloader = build_detection_test_loader(cfg,dataset_name)    \n",
    "    myeval = COCOEvaluator(dataset_name,tasks={'bbox','segm'},output_dir =\"output_\"+ dataset_name) #produces _coco_format.json when initialized\n",
    "\n",
    "\n",
    "    for mdl in (\"fold1\", \"fold2\", \"fold3\", \"fold4\",\"fold5\"):\n",
    "        #build model\n",
    "        model_weights_path = \"output_valid_\"+ mdl +\"/model_final.pth\"\n",
    "        DetectionCheckpointer(model).load(model_weights_path);  # load a file, usually from cfg.MODEL.WEIGHTS\n",
    "        model.eval(); #set model in evaluation mode\n",
    "        myeval.reset()\n",
    "        output_dir = \"output_\"+ dataset_name + \"/\"+mdl\n",
    "        myeval._output_dir = output_dir\n",
    "        results_i = inference_on_dataset(model, myloader, myeval) #produces coco_instance_results.json when myeval.evaluate is called\n",
    "    \n",
    "    return\n",
    "\n",
    "predict_func(cfg,dataset_name)\n",
    "# launch(\n",
    "#     predict_func,\n",
    "#     6, # of gpus\n",
    "#     num_machines=1,\n",
    "#     machine_rank=0,\n",
    "#     dist_url=\"auto\",\n",
    "#     args=(cfg,dataset_name,), #args to predict_func\n",
    "# )"
   ]
  },
  {
   "cell_type": "markdown",
   "metadata": {},
   "source": [
    "# Ensembling"
   ]
  },
  {
   "cell_type": "code",
   "execution_count": 5,
   "metadata": {
    "tags": []
   },
   "outputs": [
    {
     "name": "stdout",
     "output_type": "stream",
     "text": [
      "loading annotations into memory...\n",
      "Done (t=0.03s)\n",
      "creating index...\n",
      "index created!\n",
      "Loading and preparing results...\n",
      "DONE (t=0.30s)\n",
      "creating index...\n",
      "index created!\n",
      "Successfully loaded output_ext_test/fold1/coco_instances_results.json into memory. 31392 instance detected.\n",
      "\n",
      "Loading and preparing results...\n",
      "DONE (t=0.24s)\n",
      "creating index...\n",
      "index created!\n",
      "Successfully loaded output_ext_test/fold2/coco_instances_results.json into memory. 29391 instance detected.\n",
      "\n",
      "Loading and preparing results...\n",
      "DONE (t=0.27s)\n",
      "creating index...\n",
      "index created!\n",
      "Successfully loaded output_ext_test/fold3/coco_instances_results.json into memory. 32281 instance detected.\n",
      "\n",
      "Loading and preparing results...\n",
      "DONE (t=0.27s)\n",
      "creating index...\n",
      "index created!\n",
      "Successfully loaded output_ext_test/fold4/coco_instances_results.json into memory. 26330 instance detected.\n",
      "\n",
      "Loading and preparing results...\n",
      "DONE (t=0.31s)\n",
      "creating index...\n",
      "index created!\n",
      "Successfully loaded output_ext_test/fold5/coco_instances_results.json into memory. 30312 instance detected.\n",
      "\n",
      "Working with 5 models, 1 categories, and 13813 images.\n",
      "Computing mean score non-max suppression ensembling for 13813 images.\n"
     ]
    },
    {
     "name": "stderr",
     "output_type": "stream",
     "text": [
      "100%|██████████| 13813/13813 [01:58<00:00, 116.33it/s]\n"
     ]
    },
    {
     "name": "stdout",
     "output_type": "stream",
     "text": [
      "40425 resulting instances from NMS\n"
     ]
    }
   ],
   "source": [
    "#%%script false --no-raise-error\n",
    "from Ensembler import Ensembler\n",
    "ens = Ensembler('output_'+dataset_name,dataset_name,[\"fold1\", \"fold2\", \"fold3\", \"fold4\",\"fold5\"],.2)\n",
    "ens.mean_score_nms()\n",
    "ens.save_coco_instances()"
   ]
  },
  {
   "cell_type": "markdown",
   "metadata": {},
   "source": [
    "# Evaluation"
   ]
  },
  {
   "cell_type": "markdown",
   "metadata": {},
   "source": [
    "## Ensemble"
   ]
  },
  {
   "cell_type": "code",
   "execution_count": 6,
   "metadata": {
    "tags": []
   },
   "outputs": [
    {
     "name": "stdout",
     "output_type": "stream",
     "text": [
      "loading annotations into memory...\n",
      "Done (t=0.03s)\n",
      "creating index...\n",
      "index created!\n",
      "Loading and preparing results...\n",
      "DONE (t=0.47s)\n",
      "creating index...\n",
      "index created!\n",
      "Calculated metrics for 13813 images\n",
      "Running per image evaluation...\n",
      "Evaluate annotation type *segm*\n",
      "DONE (t=0.72s).\n",
      "Accumulating evaluation results...\n",
      "DONE (t=0.04s).\n",
      "WARNING: Scores for all iou thresholds and all recall levels are not defined. This can arise if ground truth annotations contain no instances. Leaving fpr matrix as None\n",
      "Using alternate calculation for fpr at instance score threshold of 0.5\n",
      "{'dataset': 'ext_test', 'precision': -1.0, 'recall': 0.0, 'fpr': 0.14775935702037257, 'iou': 0.2, 'probability': 0.5}\n",
      "WARNING: Scores for all iou thresholds and all recall levels are not defined. This can arise if ground truth annotations contain no instances. Leaving fpr matrix as None\n",
      "Using alternate calculation for fpr at instance score threshold of 0.5\n"
     ]
    },
    {
     "data": {
      "image/png": "[encoded data removed]",
      "text/plain": [
       "<Figure size 432x288 with 1 Axes>"
      ]
     },
     "metadata": {
      "needs_background": "light"
     },
     "output_type": "display_data"
    },
    {
     "data": {
      "image/png": "[encoded data removed]",
      "text/plain": [
       "<Figure size 432x288 with 1 Axes>"
      ]
     },
     "metadata": {
      "needs_background": "light"
     },
     "output_type": "display_data"
    },
    {
     "data": {
      "image/png": "[encoded data removed]",
      "text/plain": [
       "<Figure size 720x360 with 2 Axes>"
      ]
     },
     "metadata": {
      "needs_background": "light"
     },
     "output_type": "display_data"
    }
   ],
   "source": [
    "from plain_train_net import EvaluateClass,CreatePlotsRPD\n",
    "import json\n",
    "#evaluate ensemble\n",
    "myeval = EvaluateClass(\n",
    "    dataset_name, \"output_\"+ dataset_name,iou_thresh = .2,prob_thresh=0.5,evalsuper=False)\n",
    "myeval.evaluate()\n",
    "%precision 3\n",
    "print(myeval.summarize_scalars())\n",
    "with open(os.path.join(\"output_\"+ dataset_name,'scalar_dict.json'),\"w\") as outfile:\n",
    "    json.dump(obj=myeval.summarize_scalars(),fp=outfile)\n",
    "num_images = myeval.num_images\n",
    "myeval.plot_PRcurve()\n",
    "plt.tight_layout()\n",
    "myeval.plot_recall_vs_prob()\n",
    "plt.tight_layout()\n",
    "\n",
    "RPDplt = CreatePlotsRPD.initfromcoco(myeval.mycoco,myeval.prob_thresh)\n",
    "RPDplt.gt_dt_FP_FN_count();\n"
   ]
  },
  {
   "cell_type": "markdown",
   "metadata": {},
   "source": [
    "## Individual Models"
   ]
  },
  {
   "cell_type": "code",
   "execution_count": 9,
   "metadata": {},
   "outputs": [
    {
     "name": "stdout",
     "output_type": "stream",
     "text": [
      "loading annotations into memory...\n",
      "Done (t=0.01s)\n",
      "creating index...\n",
      "index created!\n",
      "Loading and preparing results...\n",
      "DONE (t=0.02s)\n",
      "creating index...\n",
      "index created!\n",
      "Calculated metrics for 1960 images\n",
      "Running per image evaluation...\n",
      "Evaluate annotation type *segm*\n",
      "DONE (t=0.18s).\n",
      "Accumulating evaluation results...\n",
      "DONE (t=0.01s).\n",
      "{'dataset': 'test', 'precision': 0.6124595469255664, 'recall': 0.72, 'fpr': 0.046706586826347304, 'iou': 0.2, 'probability': 0.5}\n",
      "loading annotations into memory...\n",
      "Done (t=0.01s)\n",
      "creating index...\n",
      "index created!\n",
      "Loading and preparing results...\n",
      "DONE (t=0.19s)\n",
      "creating index...\n",
      "index created!\n",
      "Calculated metrics for 1960 images\n",
      "Running per image evaluation...\n",
      "Evaluate annotation type *segm*\n",
      "DONE (t=0.18s).\n",
      "Accumulating evaluation results...\n",
      "DONE (t=0.01s).\n",
      "{'dataset': 'test', 'precision': 0.6139917695473252, 'recall': 0.71, 'fpr': 0.04610778443113772, 'iou': 0.2, 'probability': 0.5}\n",
      "loading annotations into memory...\n",
      "Done (t=0.01s)\n",
      "creating index...\n",
      "index created!\n",
      "Loading and preparing results...\n",
      "DONE (t=0.02s)\n",
      "creating index...\n",
      "index created!\n",
      "Calculated metrics for 1960 images\n",
      "Running per image evaluation...\n",
      "Evaluate annotation type *segm*\n",
      "DONE (t=0.19s).\n",
      "Accumulating evaluation results...\n",
      "DONE (t=0.02s).\n",
      "{'dataset': 'test', 'precision': 0.5850903614457831, 'recall': 0.74, 'fpr': 0.04910179640718563, 'iou': 0.2, 'probability': 0.5}\n",
      "loading annotations into memory...\n",
      "Done (t=0.02s)\n",
      "creating index...\n",
      "index created!\n",
      "Loading and preparing results...\n",
      "DONE (t=0.03s)\n",
      "creating index...\n",
      "index created!\n",
      "Calculated metrics for 1960 images\n",
      "Running per image evaluation...\n",
      "Evaluate annotation type *segm*\n",
      "DONE (t=0.36s).\n",
      "Accumulating evaluation results...\n",
      "DONE (t=0.01s).\n",
      "{'dataset': 'test', 'precision': 0.6927835051546392, 'recall': 0.64, 'fpr': 0.038922155688622756, 'iou': 0.2, 'probability': 0.5}\n",
      "loading annotations into memory...\n",
      "Done (t=0.01s)\n",
      "creating index...\n",
      "index created!\n",
      "Loading and preparing results...\n",
      "DONE (t=0.03s)\n",
      "creating index...\n",
      "index created!\n",
      "Calculated metrics for 1960 images\n",
      "Running per image evaluation...\n",
      "Evaluate annotation type *segm*\n",
      "DONE (t=0.19s).\n",
      "Accumulating evaluation results...\n",
      "DONE (t=0.01s).\n",
      "{'dataset': 'test', 'precision': 0.635407537248028, 'recall': 0.6900000000000001, 'fpr': 0.04431137724550898, 'iou': 0.2, 'probability': 0.5}\n"
     ]
    }
   ],
   "source": [
    "#evaluate individual models\n",
    "import json\n",
    "myeval.evalsuper=False\n",
    "for mdl in (\"fold1\", \"fold2\", \"fold3\", \"fold4\",\"fold5\"):\n",
    "    myeval.reset()\n",
    "    output_dir = \"output_\"+ dataset_name + \"/\"+mdl\n",
    "    myeval._output_dir = output_dir\n",
    "    myeval.evaluate()\n",
    "    print(myeval.summarize_scalars())\n",
    "    with open(os.path.join(output_dir,'scalar_dict.json'),\"w\") as outfile:\n",
    "        json.dump(obj=myeval.summarize_scalars(),fp=outfile)\n"
   ]
  },
  {
   "cell_type": "code",
   "execution_count": 10,
   "metadata": {},
   "outputs": [
    {
     "data": {
      "text/html": [
       "<style  type=\"text/css\" >\n",
       "    #T_a23a6_   {\n",
       "          margin: 0;\n",
       "          font-family: \"Helvetica\", \"Arial\", sans-serif;\n",
       "          border-collapse: collapse;\n",
       "          border: none;\n",
       "          border: 2px solid #ccf;\n",
       "    }    #T_a23a6_ tbody tr:nth-child(even) {\n",
       "          background-color: #fff;\n",
       "    }    #T_a23a6_ tbody tr:nth-child(odd) {\n",
       "          background-color: #eee;\n",
       "    }    #T_a23a6_ td {\n",
       "          padding: .5em;\n",
       "          text-align: center;\n",
       "    }    #T_a23a6_ th {\n",
       "          font-size: 125%;\n",
       "          text-align: center;\n",
       "    }    #T_a23a6_ caption {\n",
       "          caption-side: bottom;\n",
       "    }    #T_a23a6_ tbody tr:hover {\n",
       "          background-color: #add8e6;\n",
       "    }</style><table id=\"T_a23a6_\" style=\"font-size: 17px\"><thead>    <tr>        <th class=\"blank level0\" ></th>        <th class=\"col_heading level0 col0\" >model</th>        <th class=\"col_heading level0 col1\" >dataset</th>        <th class=\"col_heading level0 col2\" >precision</th>        <th class=\"col_heading level0 col3\" >recall</th>        <th class=\"col_heading level0 col4\" >f1</th>        <th class=\"col_heading level0 col5\" >fpr</th>        <th class=\"col_heading level0 col6\" >fp</th>        <th class=\"col_heading level0 col7\" >iou</th>        <th class=\"col_heading level0 col8\" >probability</th>    </tr></thead><tbody>\n",
       "                <tr>\n",
       "                        <th id=\"T_a23a6_level0_row0\" class=\"row_heading level0 row0\" >0</th>\n",
       "                        <td id=\"T_a23a6_row0_col0\" class=\"data row0 col0\" >1</td>\n",
       "                        <td id=\"T_a23a6_row0_col1\" class=\"data row0 col1\" >test</td>\n",
       "                        <td id=\"T_a23a6_row0_col2\" class=\"data row0 col2\" >0.612</td>\n",
       "                        <td id=\"T_a23a6_row0_col3\" class=\"data row0 col3\" >0.720</td>\n",
       "                        <td id=\"T_a23a6_row0_col4\" class=\"data row0 col4\" >0.662</td>\n",
       "                        <td id=\"T_a23a6_row0_col5\" class=\"data row0 col5\" >0.047</td>\n",
       "                        <td id=\"T_a23a6_row0_col6\" class=\"data row0 col6\" >91</td>\n",
       "                        <td id=\"T_a23a6_row0_col7\" class=\"data row0 col7\" >0.200</td>\n",
       "                        <td id=\"T_a23a6_row0_col8\" class=\"data row0 col8\" >0.500</td>\n",
       "            </tr>\n",
       "            <tr>\n",
       "                        <th id=\"T_a23a6_level0_row1\" class=\"row_heading level0 row1\" >1</th>\n",
       "                        <td id=\"T_a23a6_row1_col0\" class=\"data row1 col0\" >2</td>\n",
       "                        <td id=\"T_a23a6_row1_col1\" class=\"data row1 col1\" >test</td>\n",
       "                        <td id=\"T_a23a6_row1_col2\" class=\"data row1 col2\" >0.614</td>\n",
       "                        <td id=\"T_a23a6_row1_col3\" class=\"data row1 col3\" >0.710</td>\n",
       "                        <td id=\"T_a23a6_row1_col4\" class=\"data row1 col4\" >0.659</td>\n",
       "                        <td id=\"T_a23a6_row1_col5\" class=\"data row1 col5\" >0.046</td>\n",
       "                        <td id=\"T_a23a6_row1_col6\" class=\"data row1 col6\" >90</td>\n",
       "                        <td id=\"T_a23a6_row1_col7\" class=\"data row1 col7\" >0.200</td>\n",
       "                        <td id=\"T_a23a6_row1_col8\" class=\"data row1 col8\" >0.500</td>\n",
       "            </tr>\n",
       "            <tr>\n",
       "                        <th id=\"T_a23a6_level0_row2\" class=\"row_heading level0 row2\" >2</th>\n",
       "                        <td id=\"T_a23a6_row2_col0\" class=\"data row2 col0\" >3</td>\n",
       "                        <td id=\"T_a23a6_row2_col1\" class=\"data row2 col1\" >test</td>\n",
       "                        <td id=\"T_a23a6_row2_col2\" class=\"data row2 col2\" >0.585</td>\n",
       "                        <td id=\"T_a23a6_row2_col3\" class=\"data row2 col3\" >0.740</td>\n",
       "                        <td id=\"T_a23a6_row2_col4\" class=\"data row2 col4\" >0.653</td>\n",
       "                        <td id=\"T_a23a6_row2_col5\" class=\"data row2 col5\" >0.049</td>\n",
       "                        <td id=\"T_a23a6_row2_col6\" class=\"data row2 col6\" >96</td>\n",
       "                        <td id=\"T_a23a6_row2_col7\" class=\"data row2 col7\" >0.200</td>\n",
       "                        <td id=\"T_a23a6_row2_col8\" class=\"data row2 col8\" >0.500</td>\n",
       "            </tr>\n",
       "            <tr>\n",
       "                        <th id=\"T_a23a6_level0_row3\" class=\"row_heading level0 row3\" >3</th>\n",
       "                        <td id=\"T_a23a6_row3_col0\" class=\"data row3 col0\" >4</td>\n",
       "                        <td id=\"T_a23a6_row3_col1\" class=\"data row3 col1\" >test</td>\n",
       "                        <td id=\"T_a23a6_row3_col2\" class=\"data row3 col2\" >0.693</td>\n",
       "                        <td id=\"T_a23a6_row3_col3\" class=\"data row3 col3\" >0.640</td>\n",
       "                        <td id=\"T_a23a6_row3_col4\" class=\"data row3 col4\" >0.665</td>\n",
       "                        <td id=\"T_a23a6_row3_col5\" class=\"data row3 col5\" >0.039</td>\n",
       "                        <td id=\"T_a23a6_row3_col6\" class=\"data row3 col6\" >76</td>\n",
       "                        <td id=\"T_a23a6_row3_col7\" class=\"data row3 col7\" >0.200</td>\n",
       "                        <td id=\"T_a23a6_row3_col8\" class=\"data row3 col8\" >0.500</td>\n",
       "            </tr>\n",
       "            <tr>\n",
       "                        <th id=\"T_a23a6_level0_row4\" class=\"row_heading level0 row4\" >4</th>\n",
       "                        <td id=\"T_a23a6_row4_col0\" class=\"data row4 col0\" >5</td>\n",
       "                        <td id=\"T_a23a6_row4_col1\" class=\"data row4 col1\" >test</td>\n",
       "                        <td id=\"T_a23a6_row4_col2\" class=\"data row4 col2\" >0.635</td>\n",
       "                        <td id=\"T_a23a6_row4_col3\" class=\"data row4 col3\" >0.690</td>\n",
       "                        <td id=\"T_a23a6_row4_col4\" class=\"data row4 col4\" >0.662</td>\n",
       "                        <td id=\"T_a23a6_row4_col5\" class=\"data row4 col5\" >0.044</td>\n",
       "                        <td id=\"T_a23a6_row4_col6\" class=\"data row4 col6\" >86</td>\n",
       "                        <td id=\"T_a23a6_row4_col7\" class=\"data row4 col7\" >0.200</td>\n",
       "                        <td id=\"T_a23a6_row4_col8\" class=\"data row4 col8\" >0.500</td>\n",
       "            </tr>\n",
       "            <tr>\n",
       "                        <th id=\"T_a23a6_level0_row5\" class=\"row_heading level0 row5\" >5</th>\n",
       "                        <td id=\"T_a23a6_row5_col0\" class=\"data row5 col0\" >ensemble</td>\n",
       "                        <td id=\"T_a23a6_row5_col1\" class=\"data row5 col1\" >test</td>\n",
       "                        <td id=\"T_a23a6_row5_col2\" class=\"data row5 col2\" >0.639</td>\n",
       "                        <td id=\"T_a23a6_row5_col3\" class=\"data row5 col3\" >0.690</td>\n",
       "                        <td id=\"T_a23a6_row5_col4\" class=\"data row5 col4\" >0.663</td>\n",
       "                        <td id=\"T_a23a6_row5_col5\" class=\"data row5 col5\" >0.044</td>\n",
       "                        <td id=\"T_a23a6_row5_col6\" class=\"data row5 col6\" >86</td>\n",
       "                        <td id=\"T_a23a6_row5_col7\" class=\"data row5 col7\" >0.200</td>\n",
       "                        <td id=\"T_a23a6_row5_col8\" class=\"data row5 col8\" >0.500</td>\n",
       "            </tr>\n",
       "    </tbody></table>"
      ],
      "text/plain": [
       "<pandas.io.formats.style.Styler at 0x7f1e5ae41b10>"
      ]
     },
     "execution_count": 10,
     "metadata": {},
     "output_type": "execute_result"
    }
   ],
   "source": [
    "import json, os\n",
    "import pandas as pd\n",
    "from table_styles import styles\n",
    "mydicts=[]\n",
    "for mdl in ['fold1','fold2','fold3','fold4','fold5']:\n",
    "    output_dir = \"output_\"+ dataset_name + \"/\"+mdl\n",
    "    with open(os.path.join(output_dir,'scalar_dict.json')) as f:\n",
    "        mydicts.append(json.load(f))\n",
    "with open(os.path.join(\"output_\"+ dataset_name,'scalar_dict.json')) as f:\n",
    "    mydicts.append(json.load(f))\n",
    "dfr = pd.DataFrame(mydicts)\n",
    "dfr = dfr.assign(fp = np.int32(dfr.fpr*num_images))\n",
    "dfr = dfr.assign(f1 = 2*(dfr.precision*dfr.recall)/(dfr.precision + dfr.recall))\n",
    "dfr = dfr.assign(model = ['1','2','3','4','5','ensemble'])\n",
    "# dfr = dfr[['model','fpr','fp','probability','dataset']]\n",
    "dfr = dfr[['model','dataset','precision','recall','f1','fpr','fp','iou','probability']]\n",
    "pd.set_option('display.precision',3)\n",
    "dfr.style.set_table_styles(styles).set_table_attributes('style=\"font-size: 17px\"')"
   ]
  },
  {
   "cell_type": "markdown",
   "metadata": {},
   "source": [
    "# Visualize Output"
   ]
  },
  {
   "cell_type": "code",
   "execution_count": 27,
   "metadata": {
    "tags": []
   },
   "outputs": [
    {
     "name": "stderr",
     "output_type": "stream",
     "text": [
      "100%|██████████| 50/50 [00:50<00:00,  1.01s/it]\n"
     ]
    }
   ],
   "source": [
    "\n",
    "from plain_train_net import OutputVis\n",
    "\n",
    "dataset_name = 'ext_test'\n",
    "pred_file = \"output_\"+ dataset_name + \"/coco_instances_results.json\"\n",
    "out_file = os.path.join(\"output_\"+ dataset_name,'mean_score_nms_'+dataset_name+'_nonrpd.pdf')\n",
    "\n",
    "# mdl = 'fold1'\n",
    "# pred_file = os.path.join(\"output_\"+ dataset_name,mdl,\"coco_instances_results.json\")\n",
    "# out_file = os.path.join(\"output_\"+ dataset_name,'mean_score_nms_'+mdl+'.pdf')\n",
    "\n",
    "# vis = OutputVis(dataset_name,prob_thresh = 0.5,pred_mode='file',pred_file=pred_file,has_annotations=False)\n",
    "# ImgIds = RPDplt.dfimg.index[RPDplt.dfimg.dt_instances>0] #np.abs(df.gt_xpxs-df.dt_xpxs).sort_values(ascending=False).index[0:50].values\n",
    "# vis.output_to_pdf(ImgIds,out_file)\n",
    "\n",
    "df = RPDplt.dfimg\n",
    "vis = OutputVis(dataset_name,prob_thresh = 0.5,pred_mode='file',pred_file=pred_file,has_annotations=False)\n",
    "ImgIds = RPDplt.dfimg[RPDplt.dfimg.dt_instances==0].sample(50).index.values\n",
    "#ImgIds = np.abs(df.gt_xpxs-df.dt_xpxs).sort_values(ascending=False).index[0:10].values\n",
    "vis.output_to_pdf(ImgIds,out_file)\n"
   ]
  },
  {
   "cell_type": "code",
   "execution_count": 28,
   "metadata": {},
   "outputs": [],
   "source": [
    "from table_styles import styles\n",
    "dfpts = RPDplt.dfpts.sort_values(by=['dt_instances'],ascending=False)\n",
    "html_str = dfpts.style.format('{:.0f}').set_table_styles(styles).render()\n",
    "html_file = open(os.path.join('output_'+ dataset_name + '/dfpts_'+dataset_name+'.html'),'w')\n",
    "html_file.write(html_str)\n",
    "html_file.close()"
   ]
  },
  {
   "cell_type": "code",
   "execution_count": 34,
   "metadata": {},
   "outputs": [],
   "source": [
    "dfimg = RPDplt.dfimg.sort_index()\n",
    "html_str = dfimg.style.set_table_styles(styles).render()\n",
    "html_file = open(os.path.join('output_'+ dataset_name + '/dfimg_'+dataset_name+'.html'),'w')\n",
    "html_file.write(html_str)\n",
    "html_file.close()"
   ]
  },
  {
   "cell_type": "code",
   "execution_count": 36,
   "metadata": {},
   "outputs": [
    {
     "data": {
      "text/plain": [
       "gt_instances          0.0\n",
       "gt_pxs                0.0\n",
       "gt_xpxs               0.0\n",
       "dt_instances       6897.0\n",
       "dt_pxs          1424332.0\n",
       "dt_xpxs          232663.0\n",
       "dtype: float64"
      ]
     },
     "execution_count": 36,
     "metadata": {},
     "output_type": "execute_result"
    }
   ],
   "source": [
    "dfpts.sum()"
   ]
  }
 ],
 "metadata": {
  "interpreter": {
   "hash": "b0122a9a100fde86447053a2d82169efd56332aef873a4abfb4540bf3c983ad4"
  },
  "kernelspec": {
   "display_name": "Python 3.7.10 64-bit ('detectron': conda)",
   "name": "python3"
  },
  "language_info": {
   "codemirror_mode": {
    "name": "ipython",
    "version": 3
   },
   "file_extension": ".py",
   "mimetype": "text/x-python",
   "name": "python",
   "nbconvert_exporter": "python",
   "pygments_lexer": "ipython3",
   "version": "3.7.10"
  }
 },
 "nbformat": 4,
 "nbformat_minor": 5
}
