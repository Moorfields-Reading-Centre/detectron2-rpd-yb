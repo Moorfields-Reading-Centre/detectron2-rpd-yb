{
 "cells": [
  {
   "cell_type": "code",
   "execution_count": 1,
   "id": "911cc6e6",
   "metadata": {
    "tags": []
   },
   "outputs": [],
   "source": [
    "import shutil, os\n",
    "import matplotlib.pyplot as plt\n",
    "import numpy as np\n",
    "import detectron2\n",
    "from detectron2.data import DatasetCatalog,MetadataCatalog\n",
    "from plain_train_net import grab_train,grab_valid\n",
    "\n",
    "reprocess_results=False"
   ]
  },
  {
   "cell_type": "code",
   "execution_count": 2,
   "id": "e1795c16",
   "metadata": {
    "tags": []
   },
   "outputs": [],
   "source": [
    "try:\n",
    "    DatasetCatalog.register(\"rpd_valid\", grab_valid)\n",
    "except:\n",
    "    print('Already registered.')\n",
    "    #do nothing\n",
    "try:\n",
    "    DatasetCatalog.register(\"rpd_train\", grab_train)\n",
    "except:\n",
    "    print('Already registered.')\n",
    "    #do nothing\n",
    "try:\n",
    "    MetadataCatalog.get(\"rpd_valid\").thing_classes = [\"rpd\"]\n",
    "except:\n",
    "    print('Already registered.')\n",
    "    #do nothing\n",
    "try:\n",
    "    MetadataCatalog.get(\"rpd_train\").thing_classes = [\"rpd\"]   \n",
    "except:\n",
    "    print('Already registered.')\n",
    "    #do nothing"
   ]
  },
  {
   "cell_type": "code",
   "execution_count": 3,
   "id": "7e58cf5d",
   "metadata": {
    "tags": []
   },
   "outputs": [
    {
     "name": "stdout",
     "output_type": "stream",
     "text": [
      "BATCH_SIZE_PER_IMAGE: 512\n",
      "IN_FEATURES:\n",
      "- p2\n",
      "- p3\n",
      "- p4\n",
      "- p5\n",
      "IOU_LABELS:\n",
      "- 0\n",
      "- 1\n",
      "IOU_THRESHOLDS:\n",
      "- 0.5\n",
      "NAME: StandardROIHeads\n",
      "NMS_THRESH_TEST: 0.01\n",
      "NUM_CLASSES: 1\n",
      "POSITIVE_FRACTION: 0.25\n",
      "PROPOSAL_APPEND_GT: true\n",
      "SCORE_THRESH_TEST: 0.001\n",
      "\n",
      "output_dummy/model_final.pth\n",
      "output_dummy/results\n"
     ]
    }
   ],
   "source": [
    "#predict\n",
    "from detectron2.config import get_cfg\n",
    "cfg = get_cfg()\n",
    "cfg.merge_from_file('configs/working')\n",
    "#really low iou for nms in order to separate out lesions\n",
    "cfg.merge_from_list([\"MODEL.WEIGHTS\", \"output_dummy/model_final.pth\",\n",
    "                     \"MODEL.ROI_HEADS.NMS_THRESH_TEST\",\".01\",\n",
    "                     \"MODEL.ROI_HEADS.SCORE_THRESH_TEST\",\".001\",\n",
    "                     \"OUTPUT_DIR\", \"output_dummy/results\"])\n",
    "#print(cfg.dump())  # print formatted configs\n",
    "print(cfg.MODEL.ROI_HEADS.dump())\n",
    "print(cfg.MODEL.WEIGHTS)\n",
    "print(cfg.OUTPUT_DIR)\n"
   ]
  },
  {
   "cell_type": "code",
   "execution_count": 4,
   "id": "2c79e3c2",
   "metadata": {},
   "outputs": [],
   "source": [
    "from plain_train_net import OutputVis\n",
    "vis = OutputVis('rpd_valid',cfg,0.5)\n",
    "#imggt,imgdt = vis.get_image('101113_OS_oct-024.png')"
   ]
  },
  {
   "cell_type": "code",
   "execution_count": 5,
   "id": "7d6b5b09",
   "metadata": {},
   "outputs": [],
   "source": [
    "vis.output_to_pdf(['101113_OS_oct-024.png'],os.path.join(cfg.OUTPUT_DIR,'test.pdf'),overwrite=True)"
   ]
  },
  {
   "cell_type": "code",
   "execution_count": null,
   "id": "500afd55",
   "metadata": {},
   "outputs": [],
   "source": []
  }
 ],
 "metadata": {
  "kernelspec": {
   "display_name": "Python 3",
   "language": "python",
   "name": "python3"
  },
  "language_info": {
   "codemirror_mode": {
    "name": "ipython",
    "version": 3
   },
   "file_extension": ".py",
   "mimetype": "text/x-python",
   "name": "python",
   "nbconvert_exporter": "python",
   "pygments_lexer": "ipython3",
   "version": "3.7.10"
  }
 },
 "nbformat": 4,
 "nbformat_minor": 5
}
