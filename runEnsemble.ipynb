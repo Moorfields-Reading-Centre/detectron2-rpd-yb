{
 "cells": [
  {
   "cell_type": "code",
   "execution_count": 1,
   "source": [
    "import shutil, os\n",
    "os.environ[\"CUDA_DEVICE_ORDER\"]=\"PCI_BUS_ID\"\n",
    "os.environ[\"CUDA_VISIBLE_DEVICES\"] = \"5\"\n",
    "import matplotlib.pyplot as plt\n",
    "import numpy as np\n",
    "import detectron2\n",
    "from detectron2.data import DatasetCatalog,MetadataCatalog\n",
    "from plain_train_net import grab_dataset\n",
    "\n",
    "\n",
    "\n",
    "reprocess_results=True\n",
    "dataset_name = \"reserves_fold1\"\n",
    "dpi=120"
   ],
   "outputs": [],
   "metadata": {
    "tags": []
   }
  },
  {
   "cell_type": "code",
   "execution_count": 3,
   "source": [
    "#predict\n",
    "from detectron2.config import get_cfg\n",
    "cfg = get_cfg()\n",
    "cfg.merge_from_file('configs/working.yaml')\n",
    "#really low iou for nms in order to separate out lesions\n",
    "# cfg.merge_from_list([\"MODEL.WEIGHTS\", \"output_valid_fold1/model_final.pth\",\n",
    "#                      \"OUTPUT_DIR\", \"output_valid_\"+ dataset_name + \"/results\"])\n",
    "#print(cfg.dump())  # print formatted configs\n",
    "print(cfg.MODEL.ROI_HEADS.dump())\n",
    "print(cfg.MODEL.WEIGHTS)\n",
    "print(cfg.OUTPUT_DIR)\n"
   ],
   "outputs": [
    {
     "output_type": "stream",
     "name": "stdout",
     "text": [
      "BATCH_SIZE_PER_IMAGE: 512\n",
      "IN_FEATURES:\n",
      "- p2\n",
      "- p3\n",
      "- p4\n",
      "- p5\n",
      "IOU_LABELS:\n",
      "- 0\n",
      "- 1\n",
      "IOU_THRESHOLDS:\n",
      "- 0.5\n",
      "NAME: StandardROIHeads\n",
      "NMS_THRESH_TEST: 0.01\n",
      "NUM_CLASSES: 1\n",
      "POSITIVE_FRACTION: 0.25\n",
      "PROPOSAL_APPEND_GT: true\n",
      "SCORE_THRESH_TEST: 0.001\n",
      "\n",
      "detectron2://ImageNetPretrained/FAIR/X-101-32x8d.pkl\n",
      "./output\n"
     ]
    }
   ],
   "metadata": {
    "tags": []
   }
  },
  {
   "cell_type": "code",
   "execution_count": 4,
   "source": [
    "for name in [dataset_name]:\n",
    "    try:\n",
    "        DatasetCatalog.register(name, grab_dataset(name))\n",
    "    except:\n",
    "        print('Already registered.')\n",
    "        #do nothing\n",
    "    MetadataCatalog.get(name).thing_classes = [\"rpd\"]"
   ],
   "outputs": [],
   "metadata": {}
  },
  {
   "cell_type": "markdown",
   "source": [
    "# Prediction"
   ],
   "metadata": {}
  },
  {
   "cell_type": "code",
   "execution_count": 5,
   "source": [
    "%%script false --no-raise-error\n",
    "from detectron2.modeling import build_model\n",
    "from detectron2.data import build_detection_test_loader\n",
    "from detectron2.checkpoint import DetectionCheckpointer\n",
    "#from plain_train_net import EvaluateClass\n",
    "from detectron2.evaluation import inference_on_dataset, COCOEvaluator\n",
    "\n",
    "model = build_model(cfg)  # returns a torch.nn.Module\n",
    "myloader = build_detection_test_loader(cfg,dataset_name)    \n",
    "myeval = COCOEvaluator(dataset_name,tasks={'bbox','segm'},output_dir =\"output_\"+ dataset_name) #produces _coco_format.json when initialized\n",
    "\n",
    "for mdl in (\"fold1\", \"fold2\", \"fold3\", \"fold4\",\"fold5\"):\n",
    "    #build model\n",
    "    model_weights_path = \"output_valid_\"+ mdl +\"/model_final.pth\"\n",
    "    DetectionCheckpointer(model).load(model_weights_path);  # load a file, usually from cfg.MODEL.WEIGHTS\n",
    "    model.eval(); #set model in evaluation mode\n",
    "    myeval.reset()\n",
    "    output_dir = \"output_\"+ dataset_name + \"/\"+mdl\n",
    "    myeval._output_dir = output_dir\n",
    "    results_i = inference_on_dataset(model, myloader, myeval) #produces coco_instance_results.json when myeval.evaluate is called\n",
    "\n",
    "\n",
    "#%precision 3\n",
    "len(myeval._predictions) # of images"
   ],
   "outputs": [],
   "metadata": {
    "tags": []
   }
  },
  {
   "cell_type": "markdown",
   "source": [
    "# Ensembling"
   ],
   "metadata": {}
  },
  {
   "cell_type": "code",
   "execution_count": 6,
   "source": [
    "%%script false --no-raise-error\n",
    "from Ensembler import Ensembler\n",
    "ens = Ensembler('output_'+dataset_name,dataset_name,[\"fold1\", \"fold2\", \"fold3\", \"fold4\",\"fold5\"],.2)\n",
    "ens.mean_score_nms()\n",
    "ens.save_coco_instances()"
   ],
   "outputs": [],
   "metadata": {
    "tags": []
   }
  },
  {
   "cell_type": "markdown",
   "source": [
    "# Evaluation"
   ],
   "metadata": {}
  },
  {
   "cell_type": "markdown",
   "source": [
    "## Ensemble"
   ],
   "metadata": {}
  },
  {
   "cell_type": "code",
   "execution_count": 34,
   "source": [
    "from plain_train_net import EvaluateClass,CreatePlotsRPD\n",
    "import json\n",
    "#evaluate ensemble\n",
    "myeval = EvaluateClass(\n",
    "    dataset_name, \"output_\"+ dataset_name,iou_thresh = .2,prob_thresh=0.5,evalsuper=False)\n",
    "myeval.evaluate()\n",
    "%precision 3\n",
    "print(myeval.summarize_scalars())\n",
    "with open(os.path.join(\"output_\"+ dataset_name,'scalar_dict.json'),\"w\") as outfile:\n",
    "    json.dump(obj=myeval.summarize_scalars(),fp=outfile)\n",
    "num_images = myeval.num_images\n",
    "myeval.plot_PRcurve()\n",
    "plt.tight_layout()\n",
    "myeval.plot_recall_vs_prob()\n",
    "plt.tight_layout()\n",
    "\n",
    "RPDplt = CreatePlotsRPD.initfromcoco(myeval.mycoco,myeval.prob_thresh)\n",
    "RPDplt.gt_dt_FP_FN_count()\n"
   ],
   "outputs": [
    {
     "output_type": "stream",
     "name": "stdout",
     "text": [
      "loading annotations into memory...\n",
      "Done (t=0.00s)\n",
      "creating index...\n",
      "index created!\n",
      "Loading and preparing results...\n",
      "DONE (t=0.02s)\n",
      "creating index...\n",
      "index created!\n",
      "Calculated metrics for 1078 images\n",
      "Running per image evaluation...\n",
      "Evaluate annotation type *segm*\n",
      "DONE (t=0.07s).\n",
      "Accumulating evaluation results...\n",
      "DONE (t=0.00s).\n",
      "WARNING: Scores for all iou thresholds and all recall levels are not defined. This can arise if ground truth annotations contain no instances. Leaving fpr matrix as None\n",
      "Using alternate calculation for fpr at instance score threshold of 0.5\n",
      "{'dataset': 'reserves_fold1', 'precision': -1.0, 'recall': 0.0, 'fpr': 0.01855287552362824, 'iou': 0.2, 'probability': 0.5}\n",
      "WARNING: Scores for all iou thresholds and all recall levels are not defined. This can arise if ground truth annotations contain no instances. Leaving fpr matrix as None\n",
      "Using alternate calculation for fpr at instance score threshold of 0.5\n"
     ]
    },
    {
     "output_type": "execute_result",
     "data": {
      "text/plain": [
       "<Figure size 720x360 with 2 Axes>"
      ],
      "image/png": "[encoded data removed]"
     },
     "metadata": {},
     "execution_count": 34
    },
    {
     "output_type": "display_data",
     "data": {
      "text/plain": [
       "<Figure size 432x288 with 1 Axes>"
      ],
      "image/png": "[encoded data removed]"
     },
     "metadata": {
      "needs_background": "light"
     }
    },
    {
     "output_type": "display_data",
     "data": {
      "text/plain": [
       "<Figure size 432x288 with 1 Axes>"
      ],
      "image/png": "[encoded data removed]"
     },
     "metadata": {
      "needs_background": "light"
     }
    },
    {
     "output_type": "display_data",
     "data": {
      "text/plain": [
       "<Figure size 720x360 with 2 Axes>"
      ],
      "image/png": "[encoded data removed]"
     },
     "metadata": {
      "needs_background": "light"
     }
    }
   ],
   "metadata": {
    "tags": []
   }
  },
  {
   "cell_type": "markdown",
   "source": [
    "## Individual Models"
   ],
   "metadata": {}
  },
  {
   "cell_type": "code",
   "execution_count": 9,
   "source": [
    "#evaluate individual models\n",
    "import json\n",
    "myeval.evalsuper=False\n",
    "for mdl in (\"fold1\", \"fold2\", \"fold3\", \"fold4\",\"fold5\"):\n",
    "    myeval.reset()\n",
    "    output_dir = \"output_\"+ dataset_name + \"/\"+mdl\n",
    "    myeval._output_dir = output_dir\n",
    "    myeval.evaluate()\n",
    "    print(myeval.summarize_scalars())\n",
    "    with open(os.path.join(output_dir,'scalar_dict.json'),\"w\") as outfile:\n",
    "        json.dump(obj=myeval.summarize_scalars(),fp=outfile)\n"
   ],
   "outputs": [
    {
     "output_type": "stream",
     "name": "stdout",
     "text": [
      "loading annotations into memory...\n",
      "Done (t=0.00s)\n",
      "creating index...\n",
      "index created!\n",
      "Loading and preparing results...\n",
      "DONE (t=0.01s)\n",
      "creating index...\n",
      "index created!\n",
      "Calculated metrics for 1078 images\n",
      "Running per image evaluation...\n",
      "Evaluate annotation type *segm*\n",
      "DONE (t=0.05s).\n",
      "Accumulating evaluation results...\n",
      "DONE (t=0.00s).\n",
      "WARNING: Scores for all iou thresholds and all recall levels are not defined. This can arise if ground truth annotations contain no instances. Leaving fpr matrix as None\n",
      "Using alternate calculation for fpr at instance score threshold of 0.5\n",
      "{'dataset': 'reserves_fold1', 'precision': -1.0, 'recall': 0.0, 'fpr': 0.03432281971871225, 'iou': 0.2, 'probability': 0.5}\n",
      "WARNING: Scores for all iou thresholds and all recall levels are not defined. This can arise if ground truth annotations contain no instances. Leaving fpr matrix as None\n",
      "Using alternate calculation for fpr at instance score threshold of 0.5\n",
      "loading annotations into memory...\n",
      "Done (t=0.00s)\n",
      "creating index...\n",
      "index created!\n",
      "Loading and preparing results...\n",
      "DONE (t=0.01s)\n",
      "creating index...\n",
      "index created!\n",
      "Calculated metrics for 1078 images\n",
      "Running per image evaluation...\n",
      "Evaluate annotation type *segm*\n",
      "DONE (t=0.04s).\n",
      "Accumulating evaluation results...\n",
      "DONE (t=0.00s).\n",
      "WARNING: Scores for all iou thresholds and all recall levels are not defined. This can arise if ground truth annotations contain no instances. Leaving fpr matrix as None\n",
      "Using alternate calculation for fpr at instance score threshold of 0.5\n",
      "{'dataset': 'reserves_fold1', 'precision': -1.0, 'recall': 0.0, 'fpr': 0.023191094404535303, 'iou': 0.2, 'probability': 0.5}\n",
      "WARNING: Scores for all iou thresholds and all recall levels are not defined. This can arise if ground truth annotations contain no instances. Leaving fpr matrix as None\n",
      "Using alternate calculation for fpr at instance score threshold of 0.5\n",
      "loading annotations into memory...\n",
      "Done (t=0.00s)\n",
      "creating index...\n",
      "index created!\n",
      "Loading and preparing results...\n",
      "DONE (t=0.00s)\n",
      "creating index...\n",
      "index created!\n",
      "Calculated metrics for 1078 images\n",
      "Running per image evaluation...\n",
      "Evaluate annotation type *segm*\n",
      "DONE (t=0.14s).\n",
      "Accumulating evaluation results...\n",
      "DONE (t=0.00s).\n",
      "WARNING: Scores for all iou thresholds and all recall levels are not defined. This can arise if ground truth annotations contain no instances. Leaving fpr matrix as None\n",
      "Using alternate calculation for fpr at instance score threshold of 0.5\n",
      "{'dataset': 'reserves_fold1', 'precision': -1.0, 'recall': 0.0, 'fpr': 0.02226345062835389, 'iou': 0.2, 'probability': 0.5}\n",
      "WARNING: Scores for all iou thresholds and all recall levels are not defined. This can arise if ground truth annotations contain no instances. Leaving fpr matrix as None\n",
      "Using alternate calculation for fpr at instance score threshold of 0.5\n",
      "loading annotations into memory...\n",
      "Done (t=0.00s)\n",
      "creating index...\n",
      "index created!\n",
      "Loading and preparing results...\n",
      "DONE (t=0.01s)\n",
      "creating index...\n",
      "index created!\n",
      "Calculated metrics for 1078 images\n",
      "Running per image evaluation...\n",
      "Evaluate annotation type *segm*\n",
      "DONE (t=0.04s).\n",
      "Accumulating evaluation results...\n",
      "DONE (t=0.00s).\n",
      "WARNING: Scores for all iou thresholds and all recall levels are not defined. This can arise if ground truth annotations contain no instances. Leaving fpr matrix as None\n",
      "Using alternate calculation for fpr at instance score threshold of 0.5\n",
      "{'dataset': 'reserves_fold1', 'precision': -1.0, 'recall': 0.0, 'fpr': 0.026901669509260952, 'iou': 0.2, 'probability': 0.5}\n",
      "WARNING: Scores for all iou thresholds and all recall levels are not defined. This can arise if ground truth annotations contain no instances. Leaving fpr matrix as None\n",
      "Using alternate calculation for fpr at instance score threshold of 0.5\n",
      "loading annotations into memory...\n",
      "Done (t=0.00s)\n",
      "creating index...\n",
      "index created!\n",
      "Loading and preparing results...\n",
      "DONE (t=0.00s)\n",
      "creating index...\n",
      "index created!\n",
      "Calculated metrics for 1078 images\n",
      "Running per image evaluation...\n",
      "Evaluate annotation type *segm*\n",
      "DONE (t=0.03s).\n",
      "Accumulating evaluation results...\n",
      "DONE (t=0.00s).\n",
      "WARNING: Scores for all iou thresholds and all recall levels are not defined. This can arise if ground truth annotations contain no instances. Leaving fpr matrix as None\n",
      "Using alternate calculation for fpr at instance score threshold of 0.5\n",
      "{'dataset': 'reserves_fold1', 'precision': -1.0, 'recall': 0.0, 'fpr': 0.023191094404535303, 'iou': 0.2, 'probability': 0.5}\n",
      "WARNING: Scores for all iou thresholds and all recall levels are not defined. This can arise if ground truth annotations contain no instances. Leaving fpr matrix as None\n",
      "Using alternate calculation for fpr at instance score threshold of 0.5\n"
     ]
    }
   ],
   "metadata": {}
  },
  {
   "cell_type": "code",
   "execution_count": 13,
   "source": [
    "import json, os\n",
    "import pandas as pd\n",
    "from table_styles import styles\n",
    "mydicts=[]\n",
    "for mdl in ['fold1','fold2','fold3','fold4','fold5']:\n",
    "    output_dir = \"output_\"+ dataset_name + \"/\"+mdl\n",
    "    with open(os.path.join(output_dir,'scalar_dict.json')) as f:\n",
    "        mydicts.append(json.load(f))\n",
    "with open(os.path.join(\"output_\"+ dataset_name,'scalar_dict.json')) as f:\n",
    "    mydicts.append(json.load(f))\n",
    "dfr = pd.DataFrame(mydicts)\n",
    "dfr = dfr.assign(fp = np.int32(dfr.fpr*num_images))\n",
    "dfr = dfr.assign(model = ['1','2','3','4','5','ensemble'])\n",
    "dfr = dfr[['model','fpr','fp','probability','dataset']]\n",
    "pd.set_option('display.precision',3)\n",
    "dfr.style.set_table_styles(styles).set_table_attributes('style=\"font-size: 17px\"')"
   ],
   "outputs": [
    {
     "output_type": "execute_result",
     "data": {
      "text/plain": [
       "<pandas.io.formats.style.Styler at 0x7fc064942f10>"
      ],
      "text/html": [
       "<style  type=\"text/css\" >\n",
       "    #T_53703_   {\n",
       "          margin: 0;\n",
       "          font-family: \"Helvetica\", \"Arial\", sans-serif;\n",
       "          border-collapse: collapse;\n",
       "          border: none;\n",
       "          border: 2px solid #ccf;\n",
       "    }    #T_53703_ tbody tr:nth-child(even) {\n",
       "          background-color: #fff;\n",
       "    }    #T_53703_ tbody tr:nth-child(odd) {\n",
       "          background-color: #eee;\n",
       "    }    #T_53703_ td {\n",
       "          padding: .5em;\n",
       "          text-align: center;\n",
       "    }    #T_53703_ th {\n",
       "          font-size: 125%;\n",
       "          text-align: center;\n",
       "    }    #T_53703_ caption {\n",
       "          caption-side: bottom;\n",
       "    }    #T_53703_ tbody tr:hover {\n",
       "          background-color: #add8e6;\n",
       "    }</style><table id=\"T_53703_\" style=\"font-size: 17px\"><thead>    <tr>        <th class=\"blank level0\" ></th>        <th class=\"col_heading level0 col0\" >model</th>        <th class=\"col_heading level0 col1\" >fpr</th>        <th class=\"col_heading level0 col2\" >fp</th>        <th class=\"col_heading level0 col3\" >probability</th>        <th class=\"col_heading level0 col4\" >dataset</th>    </tr></thead><tbody>\n",
       "                <tr>\n",
       "                        <th id=\"T_53703_level0_row0\" class=\"row_heading level0 row0\" >0</th>\n",
       "                        <td id=\"T_53703_row0_col0\" class=\"data row0 col0\" >1</td>\n",
       "                        <td id=\"T_53703_row0_col1\" class=\"data row0 col1\" >0.034</td>\n",
       "                        <td id=\"T_53703_row0_col2\" class=\"data row0 col2\" >36</td>\n",
       "                        <td id=\"T_53703_row0_col3\" class=\"data row0 col3\" >0.500</td>\n",
       "                        <td id=\"T_53703_row0_col4\" class=\"data row0 col4\" >reserves_fold1</td>\n",
       "            </tr>\n",
       "            <tr>\n",
       "                        <th id=\"T_53703_level0_row1\" class=\"row_heading level0 row1\" >1</th>\n",
       "                        <td id=\"T_53703_row1_col0\" class=\"data row1 col0\" >2</td>\n",
       "                        <td id=\"T_53703_row1_col1\" class=\"data row1 col1\" >0.023</td>\n",
       "                        <td id=\"T_53703_row1_col2\" class=\"data row1 col2\" >24</td>\n",
       "                        <td id=\"T_53703_row1_col3\" class=\"data row1 col3\" >0.500</td>\n",
       "                        <td id=\"T_53703_row1_col4\" class=\"data row1 col4\" >reserves_fold1</td>\n",
       "            </tr>\n",
       "            <tr>\n",
       "                        <th id=\"T_53703_level0_row2\" class=\"row_heading level0 row2\" >2</th>\n",
       "                        <td id=\"T_53703_row2_col0\" class=\"data row2 col0\" >3</td>\n",
       "                        <td id=\"T_53703_row2_col1\" class=\"data row2 col1\" >0.022</td>\n",
       "                        <td id=\"T_53703_row2_col2\" class=\"data row2 col2\" >23</td>\n",
       "                        <td id=\"T_53703_row2_col3\" class=\"data row2 col3\" >0.500</td>\n",
       "                        <td id=\"T_53703_row2_col4\" class=\"data row2 col4\" >reserves_fold1</td>\n",
       "            </tr>\n",
       "            <tr>\n",
       "                        <th id=\"T_53703_level0_row3\" class=\"row_heading level0 row3\" >3</th>\n",
       "                        <td id=\"T_53703_row3_col0\" class=\"data row3 col0\" >4</td>\n",
       "                        <td id=\"T_53703_row3_col1\" class=\"data row3 col1\" >0.027</td>\n",
       "                        <td id=\"T_53703_row3_col2\" class=\"data row3 col2\" >28</td>\n",
       "                        <td id=\"T_53703_row3_col3\" class=\"data row3 col3\" >0.500</td>\n",
       "                        <td id=\"T_53703_row3_col4\" class=\"data row3 col4\" >reserves_fold1</td>\n",
       "            </tr>\n",
       "            <tr>\n",
       "                        <th id=\"T_53703_level0_row4\" class=\"row_heading level0 row4\" >4</th>\n",
       "                        <td id=\"T_53703_row4_col0\" class=\"data row4 col0\" >5</td>\n",
       "                        <td id=\"T_53703_row4_col1\" class=\"data row4 col1\" >0.023</td>\n",
       "                        <td id=\"T_53703_row4_col2\" class=\"data row4 col2\" >24</td>\n",
       "                        <td id=\"T_53703_row4_col3\" class=\"data row4 col3\" >0.500</td>\n",
       "                        <td id=\"T_53703_row4_col4\" class=\"data row4 col4\" >reserves_fold1</td>\n",
       "            </tr>\n",
       "            <tr>\n",
       "                        <th id=\"T_53703_level0_row5\" class=\"row_heading level0 row5\" >5</th>\n",
       "                        <td id=\"T_53703_row5_col0\" class=\"data row5 col0\" >ensemble</td>\n",
       "                        <td id=\"T_53703_row5_col1\" class=\"data row5 col1\" >0.019</td>\n",
       "                        <td id=\"T_53703_row5_col2\" class=\"data row5 col2\" >19</td>\n",
       "                        <td id=\"T_53703_row5_col3\" class=\"data row5 col3\" >0.500</td>\n",
       "                        <td id=\"T_53703_row5_col4\" class=\"data row5 col4\" >reserves_fold1</td>\n",
       "            </tr>\n",
       "    </tbody></table>"
      ]
     },
     "metadata": {},
     "execution_count": 13
    }
   ],
   "metadata": {}
  },
  {
   "cell_type": "markdown",
   "source": [
    "# Visualize Output"
   ],
   "metadata": {}
  },
  {
   "cell_type": "code",
   "execution_count": 8,
   "source": [
    "from plain_train_net import OutputVis\n",
    "\n",
    "pred_file = \"output_\"+ dataset_name + \"/coco_instances_results.json\"\n",
    "out_file = os.path.join(\"output_\"+ dataset_name,'mean_score_nms_'+dataset_name+'.pdf')\n",
    "\n",
    "# mdl = 'fold1'\n",
    "# pred_file = os.path.join(\"output_\"+ dataset_name,mdl,\"coco_instances_results.json\")\n",
    "# out_file = os.path.join(\"output_\"+ dataset_name,'mean_score_nms_'+mdl+'.pdf')\n",
    "\n",
    "vis = OutputVis(dataset_name,prob_thresh = 0.5,pred_mode='file',pred_file=pred_file,has_annotations=False)\n",
    "ImgIds = RPDplt.dfimg.index[RPDplt.dfimg.dt_instances>0] #np.abs(df.gt_xpxs-df.dt_xpxs).sort_values(ascending=False).index[0:50].values\n",
    "vis.output_to_pdf(ImgIds,out_file)\n"
   ],
   "outputs": [
    {
     "output_type": "stream",
     "name": "stderr",
     "text": [
      "100%|██████████| 20/20 [00:25<00:00,  1.27s/it]\n"
     ]
    }
   ],
   "metadata": {
    "tags": []
   }
  },
  {
   "cell_type": "code",
   "execution_count": 33,
   "source": [
    "import pandas as pd\n",
    "from table_styles import styles\n",
    "df = pd.read_csv('/data/amd-data/cera-rpd/cera-rpd-train/data_RPDHimeesh_drusen_reserves/dffolds.csv').set_index('ptid')\n",
    "grp = df.groupby('fold')\n",
    "grp2 = df.reset_index().groupby('fold')\n",
    "grp3 = df.reset_index().groupby(['fold','ptid','eye']).size().groupby('fold')\n",
    "dfsummary = pd.concat([grp2[['scan','ptid']].nunique(),grp3.size().to_frame('eye'),grp.sum()],axis=1)\n",
    "dfsummary\n",
    "\n",
    "dfsummary.style.set_table_styles(styles).set_table_attributes('style=\"font-size: 17px\"')"
   ],
   "outputs": [
    {
     "output_type": "execute_result",
     "data": {
      "text/plain": [
       "<pandas.io.formats.style.Styler at 0x7fcac2f90390>"
      ],
      "text/html": [
       "<style  type=\"text/css\" >\n",
       "    #T_6d535_   {\n",
       "          margin: 0;\n",
       "          font-family: \"Helvetica\", \"Arial\", sans-serif;\n",
       "          border-collapse: collapse;\n",
       "          border: none;\n",
       "          border: 2px solid #ccf;\n",
       "    }    #T_6d535_ tbody tr:nth-child(even) {\n",
       "          background-color: #fff;\n",
       "    }    #T_6d535_ tbody tr:nth-child(odd) {\n",
       "          background-color: #eee;\n",
       "    }    #T_6d535_ td {\n",
       "          padding: .5em;\n",
       "          text-align: center;\n",
       "    }    #T_6d535_ th {\n",
       "          font-size: 125%;\n",
       "          text-align: center;\n",
       "    }    #T_6d535_ caption {\n",
       "          caption-side: bottom;\n",
       "    }    #T_6d535_ tbody tr:hover {\n",
       "          background-color: #add8e6;\n",
       "    }</style><table id=\"T_6d535_\" style=\"font-size: 17px\"><thead>    <tr>        <th class=\"blank level0\" ></th>        <th class=\"col_heading level0 col0\" >scan</th>        <th class=\"col_heading level0 col1\" >ptid</th>        <th class=\"col_heading level0 col2\" >eye</th>        <th class=\"col_heading level0 col3\" >yellow</th>        <th class=\"col_heading level0 col4\" >white</th>        <th class=\"col_heading level0 col5\" >red</th>        <th class=\"col_heading level0 col6\" >black</th>    </tr>    <tr>        <th class=\"index_name level0\" >fold</th>        <th class=\"blank\" ></th>        <th class=\"blank\" ></th>        <th class=\"blank\" ></th>        <th class=\"blank\" ></th>        <th class=\"blank\" ></th>        <th class=\"blank\" ></th>        <th class=\"blank\" ></th>    </tr></thead><tbody>\n",
       "                <tr>\n",
       "                        <th id=\"T_6d535_level0_row0\" class=\"row_heading level0 row0\" >fold1</th>\n",
       "                        <td id=\"T_6d535_row0_col0\" class=\"data row0 col0\" >1078</td>\n",
       "                        <td id=\"T_6d535_row0_col1\" class=\"data row0 col1\" >11</td>\n",
       "                        <td id=\"T_6d535_row0_col2\" class=\"data row0 col2\" >22</td>\n",
       "                        <td id=\"T_6d535_row0_col3\" class=\"data row0 col3\" >0.000000</td>\n",
       "                        <td id=\"T_6d535_row0_col4\" class=\"data row0 col4\" >0.000000</td>\n",
       "                        <td id=\"T_6d535_row0_col5\" class=\"data row0 col5\" >0.000000</td>\n",
       "                        <td id=\"T_6d535_row0_col6\" class=\"data row0 col6\" >547520512.000000</td>\n",
       "            </tr>\n",
       "            <tr>\n",
       "                        <th id=\"T_6d535_level0_row1\" class=\"row_heading level0 row1\" >fold2</th>\n",
       "                        <td id=\"T_6d535_row1_col0\" class=\"data row1 col0\" >1176</td>\n",
       "                        <td id=\"T_6d535_row1_col1\" class=\"data row1 col1\" >12</td>\n",
       "                        <td id=\"T_6d535_row1_col2\" class=\"data row1 col2\" >24</td>\n",
       "                        <td id=\"T_6d535_row1_col3\" class=\"data row1 col3\" >0.000000</td>\n",
       "                        <td id=\"T_6d535_row1_col4\" class=\"data row1 col4\" >0.000000</td>\n",
       "                        <td id=\"T_6d535_row1_col5\" class=\"data row1 col5\" >0.000000</td>\n",
       "                        <td id=\"T_6d535_row1_col6\" class=\"data row1 col6\" >597295104.000000</td>\n",
       "            </tr>\n",
       "            <tr>\n",
       "                        <th id=\"T_6d535_level0_row2\" class=\"row_heading level0 row2\" >fold3</th>\n",
       "                        <td id=\"T_6d535_row2_col0\" class=\"data row2 col0\" >1274</td>\n",
       "                        <td id=\"T_6d535_row2_col1\" class=\"data row2 col1\" >13</td>\n",
       "                        <td id=\"T_6d535_row2_col2\" class=\"data row2 col2\" >26</td>\n",
       "                        <td id=\"T_6d535_row2_col3\" class=\"data row2 col3\" >0.000000</td>\n",
       "                        <td id=\"T_6d535_row2_col4\" class=\"data row2 col4\" >0.000000</td>\n",
       "                        <td id=\"T_6d535_row2_col5\" class=\"data row2 col5\" >0.000000</td>\n",
       "                        <td id=\"T_6d535_row2_col6\" class=\"data row2 col6\" >647069696.000000</td>\n",
       "            </tr>\n",
       "    </tbody></table>"
      ]
     },
     "metadata": {},
     "execution_count": 33
    }
   ],
   "metadata": {}
  }
 ],
 "metadata": {
  "kernelspec": {
   "name": "python3",
   "display_name": "Python 3.7.10 64-bit ('detectron': conda)"
  },
  "language_info": {
   "codemirror_mode": {
    "name": "ipython",
    "version": 3
   },
   "file_extension": ".py",
   "mimetype": "text/x-python",
   "name": "python",
   "nbconvert_exporter": "python",
   "pygments_lexer": "ipython3",
   "version": "3.7.10"
  },
  "interpreter": {
   "hash": "537dd73a9eff53b324e18e8be1dcdd80e5b32d5ffb754732571ba6d824b3e9bf"
  }
 },
 "nbformat": 4,
 "nbformat_minor": 5
}