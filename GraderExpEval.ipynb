{
 "cells": [
  {
   "cell_type": "code",
   "execution_count": 18,
   "source": [
    "import pandas as pd\n",
    "dfans = pd.read_csv('output_val/GraderExperiment_valGTpanelindex.csv',index_col=0)\n",
    "dfHim = pd.read_csv('output_val/GraderExperiment_Val_HK.csv',sep='\\t',index_col='ScanID')\n",
    "dfimg = pd.read_csv('output_val/dfimg_val.csv',index_col=0)\n",
    "dfimg_bug = pd.read_csv('output_val/dfimg_val_mergebug.csv',index_col=0)\n",
    "\n",
    "marks = (dfHim['Prediction']==dfans['panel_index'])\n",
    "print('{} out of {} correct'.format(marks.sum(),len(marks)))\n",
    "align_w_dt = dfimg.loc[dfans[~marks]['ImgId']]\n",
    "align_w_gt = dfimg.loc[dfans[marks]['ImgId']]\n",
    "dfans[~marks].index\n"
   ],
   "outputs": [
    {
     "output_type": "stream",
     "name": "stdout",
     "text": [
      "36 out of 50 correct\n"
     ]
    },
    {
     "output_type": "execute_result",
     "data": {
      "text/plain": [
       "Int64Index([1, 11, 12, 13, 15, 16, 17, 24, 26, 28, 33, 34, 36, 38], dtype='int64')"
      ]
     },
     "metadata": {},
     "execution_count": 18
    }
   ],
   "metadata": {}
  },
  {
   "cell_type": "code",
   "execution_count": 21,
   "source": [
    "from plain_train_net import CreatePlotsRPD\n",
    "pltcrr = CreatePlotsRPD(align_w_gt)\n",
    "plticrr = CreatePlotsRPD(align_w_dt)\n",
    "rat = (align_w_dt.gt_instances<align_w_dt.dt_instances)\n",
    "print('Ratio of dt>gt in align_w_dt: {}:{}'.format(rat.sum(),(len(rat)-rat.sum())))\n",
    "rat = (align_w_gt.gt_instances<align_w_gt.dt_instances)\n",
    "print('Ratio of dt>gt in align_w_gt: {}:{}'.format(rat.sum(),(len(rat)-rat.sum())))\n",
    "\n",
    "(align_w_gt.gt_instances==align_w_gt.dt_instances).sum()\n"
   ],
   "outputs": [
    {
     "output_type": "stream",
     "name": "stdout",
     "text": [
      "Ratio of dt>gt in align_w_dt: 8:6\n",
      "Ratio of dt>gt in align_w_gt: 15:21\n"
     ]
    },
    {
     "output_type": "execute_result",
     "data": {
      "text/plain": [
       "0"
      ]
     },
     "metadata": {},
     "execution_count": 21
    }
   ],
   "metadata": {}
  },
  {
   "cell_type": "code",
   "execution_count": 22,
   "source": [
    "from detectron2.data import DatasetCatalog,MetadataCatalog\n",
    "from plain_train_net import grab_dataset, OutputVis\n",
    "import os\n",
    "\n",
    "dataset_name = \"val\"\n",
    "for name in [dataset_name]:\n",
    "    try:\n",
    "        DatasetCatalog.register(name, grab_dataset(name))\n",
    "    except:\n",
    "        print('Already registered.')\n",
    "        #do nothing\n",
    "    MetadataCatalog.get(name).thing_classes = [\"rpd\"]\n",
    "\n",
    "pred_file = \"output_\"+ dataset_name + \"/coco_instances_results.json\"\n",
    "out_file = os.path.join(\"output_\"+ dataset_name,'GraderExperiment_'+dataset_name+'Him_align_w_dt_fixed.pdf')\n",
    "\n",
    "vis = OutputVis(dataset_name,prob_thresh = 0.5,pred_mode='file',pred_file=pred_file,has_annotations=True)\n",
    "ImgIds = align_w_dt.index.values\n",
    "vis.output_to_pdf(ImgIds,out_file,dfimg=align_w_dt)"
   ],
   "outputs": [
    {
     "output_type": "stream",
     "name": "stderr",
     "text": [
      "100%|██████████| 14/14 [00:22<00:00,  1.63s/it]\n"
     ]
    }
   ],
   "metadata": {}
  },
  {
   "cell_type": "code",
   "execution_count": 15,
   "source": [
    "dfb = dfimg_bug.dt_instances.loc[dfimg.index]\n",
    "df = dfimg.dt_instances\n",
    "idx = ~(dfb==df)\n",
    "dfb[idx].to_frame().join(df[idx],lsuffix='_b')\n"
   ],
   "outputs": [
    {
     "output_type": "execute_result",
     "data": {
      "text/plain": [
       "                       dt_instances_b  dt_instances\n",
       "101273_OS_oct-009.png             5.0           4.0\n",
       "101243_OD_oct-000.png             4.0           3.0\n",
       "101308_OS_oct-005.png             8.0           6.0\n",
       "101135_OD_oct-007.png             9.0           5.0\n",
       "101135_OS_oct-022.png             6.0           4.0\n",
       "...                               ...           ...\n",
       "101243_OS_oct-013.png             5.0           3.0\n",
       "101135_OD_oct-038.png            15.0          12.0\n",
       "101273_OS_oct-043.png            13.0          10.0\n",
       "101135_OD_oct-044.png            11.0           9.0\n",
       "101273_OS_oct-044.png            14.0          12.0\n",
       "\n",
       "[124 rows x 2 columns]"
      ],
      "text/html": [
       "<div>\n",
       "<style scoped>\n",
       "    .dataframe tbody tr th:only-of-type {\n",
       "        vertical-align: middle;\n",
       "    }\n",
       "\n",
       "    .dataframe tbody tr th {\n",
       "        vertical-align: top;\n",
       "    }\n",
       "\n",
       "    .dataframe thead th {\n",
       "        text-align: right;\n",
       "    }\n",
       "</style>\n",
       "<table border=\"1\" class=\"dataframe\">\n",
       "  <thead>\n",
       "    <tr style=\"text-align: right;\">\n",
       "      <th></th>\n",
       "      <th>dt_instances_b</th>\n",
       "      <th>dt_instances</th>\n",
       "    </tr>\n",
       "  </thead>\n",
       "  <tbody>\n",
       "    <tr>\n",
       "      <th>101273_OS_oct-009.png</th>\n",
       "      <td>5.0</td>\n",
       "      <td>4.0</td>\n",
       "    </tr>\n",
       "    <tr>\n",
       "      <th>101243_OD_oct-000.png</th>\n",
       "      <td>4.0</td>\n",
       "      <td>3.0</td>\n",
       "    </tr>\n",
       "    <tr>\n",
       "      <th>101308_OS_oct-005.png</th>\n",
       "      <td>8.0</td>\n",
       "      <td>6.0</td>\n",
       "    </tr>\n",
       "    <tr>\n",
       "      <th>101135_OD_oct-007.png</th>\n",
       "      <td>9.0</td>\n",
       "      <td>5.0</td>\n",
       "    </tr>\n",
       "    <tr>\n",
       "      <th>101135_OS_oct-022.png</th>\n",
       "      <td>6.0</td>\n",
       "      <td>4.0</td>\n",
       "    </tr>\n",
       "    <tr>\n",
       "      <th>...</th>\n",
       "      <td>...</td>\n",
       "      <td>...</td>\n",
       "    </tr>\n",
       "    <tr>\n",
       "      <th>101243_OS_oct-013.png</th>\n",
       "      <td>5.0</td>\n",
       "      <td>3.0</td>\n",
       "    </tr>\n",
       "    <tr>\n",
       "      <th>101135_OD_oct-038.png</th>\n",
       "      <td>15.0</td>\n",
       "      <td>12.0</td>\n",
       "    </tr>\n",
       "    <tr>\n",
       "      <th>101273_OS_oct-043.png</th>\n",
       "      <td>13.0</td>\n",
       "      <td>10.0</td>\n",
       "    </tr>\n",
       "    <tr>\n",
       "      <th>101135_OD_oct-044.png</th>\n",
       "      <td>11.0</td>\n",
       "      <td>9.0</td>\n",
       "    </tr>\n",
       "    <tr>\n",
       "      <th>101273_OS_oct-044.png</th>\n",
       "      <td>14.0</td>\n",
       "      <td>12.0</td>\n",
       "    </tr>\n",
       "  </tbody>\n",
       "</table>\n",
       "<p>124 rows × 2 columns</p>\n",
       "</div>"
      ]
     },
     "metadata": {},
     "execution_count": 15
    }
   ],
   "metadata": {}
  }
 ],
 "metadata": {
  "orig_nbformat": 4,
  "language_info": {
   "name": "python",
   "version": "3.7.10",
   "mimetype": "text/x-python",
   "codemirror_mode": {
    "name": "ipython",
    "version": 3
   },
   "pygments_lexer": "ipython3",
   "nbconvert_exporter": "python",
   "file_extension": ".py"
  },
  "kernelspec": {
   "name": "python3",
   "display_name": "Python 3.7.10 64-bit ('detectron': conda)"
  },
  "interpreter": {
   "hash": "537dd73a9eff53b324e18e8be1dcdd80e5b32d5ffb754732571ba6d824b3e9bf"
  }
 },
 "nbformat": 4,
 "nbformat_minor": 2
}